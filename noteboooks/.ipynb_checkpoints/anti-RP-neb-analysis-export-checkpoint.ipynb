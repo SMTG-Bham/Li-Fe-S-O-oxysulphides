{
 "cells": [
  {
   "cell_type": "markdown",
   "id": "ee44f885-dbfa-435e-8132-e9766e0fd775",
   "metadata": {},
   "source": [
    "# Analyse the neb results"
   ]
  },
  {
   "cell_type": "code",
   "execution_count": 1,
   "id": "f992bf87-3726-4e26-a602-1f6cd7517c40",
   "metadata": {},
   "outputs": [
    {
     "data": {
      "application/json": {
       "current_state": "Loaded AiiDA DB environment - profile name: scanlon-test."
      },
      "text/html": [
       "<p>Loaded AiiDA DB environment - profile name: scanlon-test.</p>"
      ],
      "text/latex": [
       "Loaded AiiDA DB environment - profile name: scanlon-test.\n"
      ],
      "text/plain": [
       "Loaded AiiDA DB environment - profile name: scanlon-test.\n"
      ]
     },
     "execution_count": 1,
     "metadata": {},
     "output_type": "execute_result"
    }
   ],
   "source": [
    "%aiida"
   ]
  },
  {
   "cell_type": "code",
   "execution_count": 2,
   "id": "6d7bcbd7-854f-4766-94ac-d1178d3fed8b",
   "metadata": {},
   "outputs": [],
   "source": [
    "from aiida.orm import StructureData\n",
    "import matplotlib.pyplot as plt"
   ]
  },
  {
   "cell_type": "markdown",
   "id": "cc167330-eb47-463b-bc8f-28afbee78793",
   "metadata": {},
   "source": [
    "## Construct NEB frames - pymatgen"
   ]
  },
  {
   "cell_type": "code",
   "execution_count": 3,
   "id": "f219c0b1-734c-431a-8d5b-9058ad7f1fd7",
   "metadata": {},
   "outputs": [],
   "source": [
    "from pymatgen.analysis.transition_state import NEBAnalysis\n",
    "\n",
    "def get_pmg_neb(workchain, energies_override=None):\n",
    "    \"\"\"Get an NEBAnalysis instance for an NEB workchain/calculation\"\"\"\n",
    "    # Energy\n",
    "    energies = {key: value['energy_without_entropy'] for key, value in workchain.outputs.neb_misc['neb_data'].items()}\n",
    "\n",
    "    # Query for the energy computed for the end structures\n",
    "    q = QueryBuilder()\n",
    "    q.append(Node, filters={'id': workchain.inputs.initial_structure.id}, tag='root')\n",
    "    q.append(CalcFunctionNode, with_outgoing='root', project=['attributes.function_name'])\n",
    "    q.append(StructureData, with_outgoing=CalcFunctionNode, tag='relaxed', project=['label'], \n",
    "             #edge_filters={'label': 'init_structure'}, \n",
    "             edge_project=['label'])\n",
    "    q.append(WorkflowFactory('vaspu.relax'), with_outgoing='relaxed', project=['label', 'uuid'], tag='relaxation')\n",
    "    q.append(Dict, with_incoming='relaxation', edge_filters={'label': 'misc'}, project=['attributes.total_energies.energy_extrapolated'])\n",
    "    q.distinct()\n",
    "\n",
    "    ends = {}\n",
    "    end_id = '{:02d}'.format(len(energies) + 1)\n",
    "    for _, _, _, relax_uuid, eng, label in q.all():\n",
    "        if label.startswith('init'):\n",
    "            if '00' in ends:\n",
    "                print('Duplicated calculation: {relax_uuid} -> {eng} vs existing {existing}'.format(relax_uuid, eng=eng, existing=end['00']))\n",
    "            else:\n",
    "                ends['00'] = eng\n",
    "            \n",
    "        elif label.startswith('final'):\n",
    "            if end_id in ends:\n",
    "                print('Duplicated calculation: {relax_uuid} -> {eng} vs existing {existing}'.format(relax_uuid, eng=eng, existing=end[end_id]))\n",
    "            else:\n",
    "                ends[end_id] = eng\n",
    "\n",
    "    energies.update(ends)\n",
    "    if energies_override:\n",
    "        energies.update(energies_override)\n",
    "    \n",
    "    # Structure\n",
    "    neb_frames = []\n",
    "    for i in range(1, 6):\n",
    "        atoms = workchain.outputs.structure[f'image_{i:02d}'].get_pymatgen()\n",
    "        neb_frames.append(atoms)\n",
    "    neb_frames.insert(0, workchain.inputs.initial_structure.get_pymatgen())\n",
    "    neb_frames.append(workchain.inputs.final_structure.get_pymatgen())\n",
    "\n",
    "    # Forces\n",
    "\n",
    "    forces_list = []\n",
    "    neb_data = workchain.outputs.neb_misc['neb_data']\n",
    "    for i in range(1, 6):\n",
    "        forces = neb_data[f'{i:02d}']['tangents']\n",
    "        forces_list.append(forces)\n",
    "\n",
    "    forces_list.insert(0, np.zeros((3, len(workchain.inputs.initial_structure.sites))))\n",
    "    forces_list.append(np.zeros((3, len(workchain.inputs.initial_structure.sites))))\n",
    "    \n",
    "    # Displacement\n",
    "    r = [0]\n",
    "    prev = neb_frames[0]\n",
    "    for st in neb_frames[1:]:\n",
    "        dists = np.array([s2.distance(s1) for s1, s2 in zip(prev, st)])\n",
    "        r.append(np.sqrt(np.sum(dists ** 2)))\n",
    "        prev = st\n",
    "    r = np.cumsum(r)\n",
    "\n",
    "    neb_analysis = NEBAnalysis(r, np.array([energies[f'{i:02d}'] for i in range(7)]), forces, neb_frames)\n",
    "    return neb_analysis"
   ]
  },
  {
   "cell_type": "markdown",
   "id": "9a75ac8d-b21e-485f-90ae-0840307c9c62",
   "metadata": {},
   "source": [
    "### Li2Fe2S2O Paths"
   ]
  },
  {
   "cell_type": "code",
   "execution_count": 10,
   "id": "19e95558-5a5f-4247-823d-85d4d9b6b92a",
   "metadata": {},
   "outputs": [],
   "source": [
    "def load_and_plot(identifier, *args, **kwargs):\n",
    "    \"\"\"\n",
    "    Load the NEB node and plot the path\n",
    "    \"\"\"\n",
    "    workchain = load_node(identifier)\n",
    "    neb_analysis = get_pmg_neb(workchain)\n",
    "\n",
    "    x_points = neb_analysis.r\n",
    "    y_points = neb_analysis.energies - neb_analysis.energies[0]\n",
    "    plt.plot(x_points, y_points, '.', markersize=10)\n",
    "\n",
    "    x_spline = np.linspace(x_points[0], x_points[-1], 100)\n",
    "    y_spline = neb_analysis.spline(x_spline)#\n",
    "    default_args = ['--']\n",
    "    default_kwargs = {'color': 'xkcd:light blue'}\n",
    "    default_kwargs.update(kwargs)\n",
    "    if args:\n",
    "        default_args = args\n",
    "    plt.plot(x_spline, y_spline, *default_args, **default_kwargs)\n",
    "    print(neb_analysis.get_extrema(normalize_rxn_coordinate=False))\n",
    "    plt.xlabel('Reaction coordinate')\n",
    "    plt.ylabel('Energy (eV)')\n",
    "    return plt.gca(), neb_analysis"
   ]
  },
  {
   "cell_type": "code",
   "execution_count": 18,
   "id": "c80caa9e-cb16-4800-b0a4-e6c5b05ccf1b",
   "metadata": {},
   "outputs": [
    {
     "name": "stdout",
     "output_type": "stream",
     "text": [
      "([], [(1.46, 383.90864865813654)])\n",
      "([], [(2.02, 955.3848792588581)])\n"
     ]
    },
    {
     "data": {
      "image/png": "[encoded data removed]",
      "text/plain": [
       "<Figure size 252x216 with 1 Axes>"
      ]
     },
     "metadata": {
      "needs_background": "light"
     },
     "output_type": "display_data"
    }
   ],
   "source": [
    "fig, axs = plt.subplots(1, 1, sharey=False, figsize=(3.5, 3))\n",
    "plt.sca(axs)\n",
    "load_and_plot('2e54e54d-07bf-419a-b23e-ede4a6b83fc6', color='xkcd:red', label='Path A')\n",
    "plt.legend()\n",
    "plt.sca(axs)\n",
    "load_and_plot('bcb2bf53-5700-4c0a-9827-2d2e676c2297', color='xkcd:light blue', label='Path B')\n",
    "plt.legend(loc=1)\n",
    "fig.tight_layout()\n",
    "plt.savefig('li2fe2s2o-paths.png', dpi=200)\n",
    "plt.savefig('figures/li2fe2s2o-paths.png', dpi=200)"
   ]
  },
  {
   "cell_type": "markdown",
   "id": "c62e5e75-172d-4970-982a-5f8b186985da",
   "metadata": {},
   "source": [
    "### Li4Fe3S3O2 PATHs"
   ]
  },
  {
   "cell_type": "code",
   "execution_count": 26,
   "id": "1b0263ec-b2c1-4aee-9ebe-fc50ace465ea",
   "metadata": {},
   "outputs": [
    {
     "name": "stdout",
     "output_type": "stream",
     "text": [
      "([], [(1.56, 301.6435560117683)])\n",
      "([], [(3.04, 1743.5621640590623)])\n",
      "([], [(1.71, 451.00264700489186)])\n",
      "([(0.01, -0.00010907527335606852), (3.29, 550.3285986796774), (5.54, -1.700925249419477)], [(2.29, 924.0348897264084), (3.8000000000000003, 603.145996129785)])\n"
     ]
    },
    {
     "data": {
      "image/png": "[encoded data removed]",
      "text/plain": [
       "<Figure size 252x216 with 1 Axes>"
      ]
     },
     "metadata": {
      "needs_background": "light"
     },
     "output_type": "display_data"
    }
   ],
   "source": [
    "fig, axs = plt.subplots(1, 1, sharey=False, figsize=(3.5, 3))\n",
    "plt.sca(axs)\n",
    "load_and_plot('1de9693e-86cf-43c0-a609-37bc6aa39d2f', color='xkcd:red', label='Path A')\n",
    "plt.legend()\n",
    "plt.sca(axs)\n",
    "load_and_plot('79d580e9-b7c1-49d5-ada7-3291eb908397', color='xkcd:light blue', label='Path B')\n",
    "load_and_plot('85d0ec5d-d138-419a-9895-89bbe8a7c3ca', color='xkcd:green', label='Path C')\n",
    "load_and_plot('70b8309e-4fc9-4e0c-a995-7353ac8d87e0', color='xkcd:brown', label='Path D')\n",
    "\n",
    "plt.legend(loc=1)\n",
    "\n",
    "fig.tight_layout()\n",
    "plt.savefig('li4fe3s3o2-paths.png', dpi=200)\n",
    "plt.savefig('figures/li4fe3s3o2-paths.png', dpi=200)"
   ]
  }
 ],
 "metadata": {
  "kernelspec": {
   "display_name": "Python [conda env:aiida-1.0-py3]",
   "language": "python",
   "name": "conda-env-aiida-1.0-py3-py"
  },
  "language_info": {
   "codemirror_mode": {
    "name": "ipython",
    "version": 3
   },
   "file_extension": ".py",
   "mimetype": "text/x-python",
   "name": "python",
   "nbconvert_exporter": "python",
   "pygments_lexer": "ipython3",
   "version": "3.8.10"
  }
 },
 "nbformat": 4,
 "nbformat_minor": 5
}
