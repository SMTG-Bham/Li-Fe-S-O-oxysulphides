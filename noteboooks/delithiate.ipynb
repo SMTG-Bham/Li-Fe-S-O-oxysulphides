{
 "cells": [
  {
   "cell_type": "markdown",
   "metadata": {},
   "source": [
    "# Delithiation and obtain the voltages\n",
    "\n",
    "Delithiate the search results and found find there voltages properly"
   ]
  },
  {
   "cell_type": "code",
   "execution_count": 2,
   "metadata": {},
   "outputs": [],
   "source": [
    "%aiida\n",
    "import pandas as pd\n",
    "from aiida.orm import KpointsData, StructureData"
   ]
  },
  {
   "cell_type": "markdown",
   "metadata": {},
   "source": [
    "## Read the data"
   ]
  },
  {
   "cell_type": "code",
   "execution_count": 3,
   "metadata": {},
   "outputs": [],
   "source": [
    "df = pd.read_csv(\"delithiation-selected.csv\")\n",
    "df.sort_values('e_pa', inplace=True)"
   ]
  },
  {
   "cell_type": "code",
   "execution_count": 4,
   "metadata": {},
   "outputs": [],
   "source": [
    "df['relaxed_structure'] = df.relax_structure_uuid.apply(lambda x: load_node(x))"
   ]
  },
  {
   "cell_type": "markdown",
   "metadata": {},
   "source": [
    "## Check how many structures needs to be generated"
   ]
  },
  {
   "cell_type": "code",
   "execution_count": 5,
   "metadata": {},
   "outputs": [],
   "source": [
    "VaspRelax = WorkflowFactory('vaspu.relax')\n",
    "from aiida_user_addons.process.transform import _delithiate_unique_sites\n",
    "from pymatgen.analysis.structure_analyzer import SpacegroupAnalyzer"
   ]
  },
  {
   "cell_type": "code",
   "execution_count": 6,
   "metadata": {},
   "outputs": [],
   "source": [
    "def refine(ps, atol=1e-5):\n",
    "    ana = SpacegroupAnalyzer(ps, atol)\n",
    "    return ana.get_primitive_standard_structure()"
   ]
  },
  {
   "cell_type": "raw",
   "metadata": {
    "tags": []
   },
   "source": [
    "delithiated = []\n",
    "for idx, row in df.iterrows():\n",
    "    ps = row.relaxed_structure.get_pymatgen()\n",
    "    #ps = refine(ps, 1e-3)\n",
    "    ps.add_oxidation_state_by_guess()\n",
    "    if 'Fe3+' in ps.composition:\n",
    "        delithiated.append(None)\n",
    "        continue\n",
    "    nfe = ps.composition['Fe2+']\n",
    "    nli = ps.composition['Li+']\n",
    "    nsub = min([nfe, nli])\n",
    "    output = _delithiate_unique_sites(StructureData(pymatgen=ps), List(list=[]), Int(nsub), Float(1e-3), pmg_only=True)\n",
    "    delithiated.append(output)\n",
    "df['delithiated_structs'] = delithiated"
   ]
  },
  {
   "cell_type": "raw",
   "metadata": {},
   "source": [
    "df['delithiated_structs']"
   ]
  },
  {
   "cell_type": "raw",
   "metadata": {},
   "source": [
    "df['ndeli'] = df['delithiated_structs'].apply(lambda x: len(x) if x is not None else 0)\n",
    "\n",
    "df['ndeli'].sum()"
   ]
  },
  {
   "cell_type": "code",
   "execution_count": 17,
   "metadata": {},
   "outputs": [],
   "source": [
    "minstructures = df.loc[df.groupby(df.formula)['e_pa'].idxmin()]\n",
    "\n",
    "\n",
    "# Top three structures for each formula\n",
    "top3 = df.loc[df.groupby(df.formula)['e_pa'].head(3).index]"
   ]
  },
  {
   "cell_type": "markdown",
   "metadata": {},
   "source": [
    "## Test deploying the calculations"
   ]
  },
  {
   "cell_type": "code",
   "execution_count": 10,
   "metadata": {},
   "outputs": [],
   "source": [
    "li2feso_relax = load_node(\"c0b4f19c-d4ba-4b2a-a57d-7f2e5c725da4\")  # Previous relaxations of the Li2FeSO structures"
   ]
  },
  {
   "cell_type": "code",
   "execution_count": 11,
   "metadata": {},
   "outputs": [],
   "source": [
    "def get_delithiate_builder(structure, misc, nsub, kspacing=0.04, code='vasp-5.4.4-std@michael-fw', wallclock=12, extra_incar={}, deli_limit=8):\n",
    "    from aiida_user_addons.vworkflows.relax import RelaxOptions\n",
    "    from aiida_user_addons.common.inputset.vaspsets import VASPInputSet\n",
    "    Deli = WorkflowFactory('vaspu.delithiate')\n",
    "    builder = Deli.get_builder()\n",
    "    \n",
    "    \n",
    "    builder.relax.vasp.code = Code.get_from_string(code)\n",
    "    builder.structure = structure\n",
    "    builder.relax.vasp.kpoints_spacing = kspacing\n",
    "    if 'archer2' in code:\n",
    "        builder.relax.vasp.options = Dict(dict={\n",
    "        'resources': {\n",
    "            'num_mpiprocs_per_machine': 64,\n",
    "            'num_machines': 1,\n",
    "            'tot_num_mpiprocs': 64,\n",
    "\n",
    "        },\n",
    "        'max_wallclock_seconds': 3600 * wallclock,\n",
    "        'import_sys_environment': False,\n",
    "        'account': 'e05-power-dos',\n",
    "        'qos': 'standard',\n",
    "        'queue_name': 'standard',\n",
    "        'mpirun_extra_params': ['--cpu-bind=rank', '--hint=nomultithread', '--distribution=block:block']\n",
    "    })\n",
    "    else:\n",
    "        builder.relax.vasp.options = Dict(dict={\n",
    "            'resources': {\n",
    "                'tot_num_mpiprocs': 24,\n",
    "\n",
    "            },\n",
    "            'max_wallclock_seconds': 3600 * wallclock,\n",
    "            'priority': \"101\",\n",
    "        })\n",
    "    \n",
    "    overrides = {'lwave': False, 'gga': 'pe', 'encut': 520,} #'potim': 0.2}\n",
    "    overrides.update(extra_incar)\n",
    "    \n",
    "    incar = VASPInputSet(\"UCLRelaxSet\", structure, overrides)\n",
    "\n",
    "    builder.relax.vasp.parameters = Dict(dict={'incar': incar.get_input_dict()})\n",
    "    builder.relax.vasp.potential_family = Str(\"PBE.54\")\n",
    "    builder.relax.vasp.potential_mapping = Dict(dict=incar.get_pp_mapping())\n",
    "\n",
    "    builder.relax.relax_settings = RelaxOptions(algo='cg', reuse=False).to_aiida_dict()\n",
    "\n",
    "    builder.strategy = Str('unique')\n",
    "    builder.rattle_amp = Float(0.1)\n",
    "    builder.run_initial_relax = Bool(False)\n",
    "    \n",
    "    builder.unique_options.excluded_sites = List(list=[])\n",
    "    builder.unique_options.nsub = Int(nsub)\n",
    "    builder.unique_options.atol = Float(1e-3)\n",
    "    builder.unique_options.limit = Int(deli_limit)\n",
    "\n",
    "    builder.ldau_mapping = Dict(dict={'mapping': {'Fe': ['d', 4.0]}})\n",
    "    builder.deli_magmom_mapping = Dict(dict={'Fe': 5.0})\n",
    "    \n",
    "    if misc is not None:\n",
    "        builder.lithiated_calc_output = misc\n",
    "    builder.metadata.label = structure.label + ' GGA+U DELI'\n",
    "    return builder"
   ]
  },
  {
   "cell_type": "markdown",
   "metadata": {},
   "source": [
    "## Launch the workchains"
   ]
  },
  {
   "cell_type": "raw",
   "metadata": {},
   "source": [
    "for idx, row in top3.iterrows():\n",
    "    if row.relax_uuid in minstructures.relax_uuid.values:\n",
    "        print('Skip', ' ', row.relax_label)\n",
    "        continue\n",
    "    relax_node = load_node(row.relax_uuid)\n",
    "    structure = relax_node.outputs.relax__structure\n",
    "    structure.label = relax_node.label.split()[0] + ' RELAXED'\n",
    "    # Get pymatgen structure to find the limits\n",
    "    ps = structure.get_pymatgen()\n",
    "    ps.add_oxidation_state_by_guess()\n",
    "    nfe = ps.composition['Fe2+']\n",
    "    nli = ps.composition['Li+']\n",
    "    ndeli = min(nli, nfe)\n",
    "    #if ps.composition.reduced_formula == 'Li2FeSO':\n",
    "    #    continue\n",
    "    if ndeli > 0:\n",
    "        builder = get_delithiate_builder(relax_node.outputs.relax__structure, relax_node.outputs.misc, nsub=ndeli)\n",
    "        submit(builder)\n",
    "        print(builder.metadata.label, ' ', len(row.delithiated_structs))\n",
    "    else:\n",
    "        print('Fe3+', row.formula)"
   ]
  },
  {
   "cell_type": "raw",
   "metadata": {},
   "source": [
    "from aiida.engine import submit"
   ]
  },
  {
   "cell_type": "markdown",
   "metadata": {},
   "source": [
    "## Launch for the Li4Fe3S3O2 structure"
   ]
  },
  {
   "cell_type": "code",
   "execution_count": 12,
   "metadata": {},
   "outputs": [],
   "source": [
    "from aiida.engine import submit"
   ]
  },
  {
   "cell_type": "code",
   "execution_count": 10,
   "metadata": {},
   "outputs": [],
   "source": [
    "li4fe3s3o2_enum = load_node('d6474c74-bb0f-4f18-bc0c-7d0287762989')\n",
    "\n",
    "#li4fe3s3o2_enum.label = 'Li4Fe3S3O4 Enum minimum'"
   ]
  },
  {
   "cell_type": "raw",
   "metadata": {},
   "source": [
    "ps = li4fe3s3o2_enum.get_pymatgen()\n",
    "ps.add_oxidation_state_by_guess()\n",
    "nfe = ps.composition['Fe2+']\n",
    "nli = ps.composition['Li+']\n",
    "ndeli = min(nli, nfe)\n",
    "#if ps.composition.reduced_formula == 'Li2FeSO':\n",
    "#    continue\n",
    "if ndeli > 0:\n",
    "    builder = get_delithiate_builder(li4fe3s3o2_enum, None, nsub=ndeli)\n",
    "    builder.run_initial_relax = Bool(True)\n",
    "    submit(builder)\n",
    "    print(builder.metadata.label, ' ')\n",
    "else:\n",
    "    print('Fe3+', row.formula)"
   ]
  },
  {
   "cell_type": "markdown",
   "metadata": {},
   "source": [
    "## Launch for other structures obtained via mode pushing"
   ]
  },
  {
   "cell_type": "code",
   "execution_count": 7,
   "metadata": {},
   "outputs": [],
   "source": [
    "li2fe3s2o2_mode_pushed = load_node('bc8867ff-c442-4b59-b264-9311d0d29156')\n",
    "li2fe2s2o_pushed = load_node('3e0e99da-2a70-4c12-b59f-42cba5bfcba5')\n",
    "li2fe4s3o2_pushed = load_node('d270e70c-7286-4244-b9bb-7e3524526c2e')"
   ]
  },
  {
   "cell_type": "raw",
   "metadata": {},
   "source": [
    "from aiida.engine import submit"
   ]
  },
  {
   "cell_type": "raw",
   "metadata": {},
   "source": [
    "structure = li2fe4s3o2_pushed\n",
    "ps = structure.get_pymatgen()\n",
    "ps.add_oxidation_state_by_guess()\n",
    "nfe = ps.composition['Fe2+']\n",
    "nli = ps.composition['Li+']\n",
    "ndeli = min(nli, nfe)\n",
    "#if ps.composition.reduced_formula == 'Li2FeSO':\n",
    "#    continue\n",
    "if ndeli > 0:\n",
    "    builder = get_delithiate_builder(structure, None, nsub=ndeli, code='vasp-5.4.4-std@thomas-fw', extra_incar={'ncore': 6, 'kpar': 1, 'algo': 'all'}, \n",
    "                                     wallclock=12, )\n",
    "    builder.run_initial_relax = Bool(True)\n",
    "    submit(builder)\n",
    "    print(builder.metadata.label, ' ')\n",
    "else:\n",
    "    print('Fe3+', row.formula)"
   ]
  },
  {
   "cell_type": "markdown",
   "metadata": {},
   "source": [
    "### Results for the pushed phases"
   ]
  },
  {
   "cell_type": "code",
   "execution_count": 23,
   "metadata": {},
   "outputs": [],
   "source": [
    "relax_work = load_node('575966')"
   ]
  },
  {
   "cell_type": "code",
   "execution_count": 24,
   "metadata": {},
   "outputs": [
    {
     "data": {
      "text/plain": [
       "<WorkChainNode: uuid: b21e761e-50da-4658-b6ce-eb5ca30b0bd7 (pk: 575966) (aiida.workflows:vaspu.relax)>"
      ]
     },
     "execution_count": 24,
     "metadata": {},
     "output_type": "execute_result"
    }
   ],
   "source": [
    "relax_work"
   ]
  },
  {
   "cell_type": "code",
   "execution_count": 22,
   "metadata": {},
   "outputs": [
    {
     "data": {
      "text/plain": [
       "[[575965,\n",
       "  {'energy': [-52.264495025],\n",
       "   'relax_id': [0],\n",
       "   'relaxation': ['1b9dd176-4a78-48d4-b56d-8f661bb0a2d3'],\n",
       "   'delithiate_id': [0],\n",
       "   'magnetisation': [[33.3342543]],\n",
       "   'deli_link_label': ['result'],\n",
       "   'input_structure': ['04112d4d-05a5-43c3-a291-29b0abbacfb0'],\n",
       "   'output_structure': ['b2b33811-295b-47cf-8279-983010061e24'],\n",
       "   'total_magnetisation': [16.66712715]}]]"
      ]
     },
     "execution_count": 22,
     "metadata": {},
     "output_type": "execute_result"
    }
   ],
   "source": [
    "q = QueryBuilder()\n",
    "q.append(Node, filters={'id': li2fe4s3o2_pushed.id})\n",
    "q.append(WorkflowFactory('vaspu.delithiate'), tag='deli', project=['id'])\n",
    "#q.append(Dict, project=['attributes'], edge_filters={'label': {'like': '%voltages'}})\n",
    "q.append(Dict, project=['attributes'], with_incoming='deli', edge_filters={'label': 'output_parameters'})\n",
    "q.all()"
   ]
  },
  {
   "cell_type": "markdown",
   "metadata": {},
   "source": [
    "## Comments\n",
    "\n",
    "1. Testing the workchain with Li2FeSO - test OK \n",
    "2. Proceed with delithiating the minimum energy structure for each composition\n",
    "3. Top3 structures for each formula submitted\n",
    "4. Should use CG (ibrion=2) instead of the RD (ibrion=1) the latter essentially not work\n",
    "\n",
    "Launched delithiation for the lowest energy structure for Li4Fe3S3O2 obtained using enumeration + Ewald summation. 12/04/2021"
   ]
  },
  {
   "cell_type": "markdown",
   "metadata": {},
   "source": [
    "## Delithiation results"
   ]
  },
  {
   "cell_type": "raw",
   "metadata": {},
   "source": [
    "group = Group.objects.get_or_create('li-fe-o-f/delithiation-starting-relaxes')[0]\n",
    "group.add_nodes([load_node(uuid) for uuid in df.relax_uuid.values])"
   ]
  },
  {
   "cell_type": "code",
   "execution_count": 8,
   "metadata": {},
   "outputs": [],
   "source": [
    "group = Group.objects.get(label='li-fe-o-f/delithiation-starting-relaxes')"
   ]
  },
  {
   "cell_type": "code",
   "execution_count": 11,
   "metadata": {},
   "outputs": [],
   "source": [
    "q = QueryBuilder()\n",
    "q.append(Group, filters={'id': group.pk})\n",
    "q.append(Node, with_group=Group, project=['label', 'uuid'])\n",
    "q.append(StructureData, project=['label', 'uuid', '*'])\n",
    "q.append(WorkflowFactory('vaspu.delithiate'), tag='deli', project='uuid')\n",
    "q.append(Dict, project=['attributes'], edge_filters={'label': {'like': '%voltages'}})\n",
    "q.append(Dict, project=['attributes'], with_incoming='deli', edge_filters={'label': 'output_parameters'})\n",
    "\n",
    "q.all()\n",
    "\n",
    "voltage_data = pd.DataFrame(q.all(), columns=['relax_label', 'relax_uuid', 'struct_label', 'struct_uuid', 'struct', 'deli_uuid', 'voltage_dict', 'deli_data'])\n",
    "voltage_data['voltages'] = voltage_data.voltage_dict.apply(lambda x: x['voltage'])\n",
    "\n",
    "voltage_data['min_voltages'] = voltage_data['voltages'].apply(lambda x: min(x))\n",
    "voltage_data['avg_voltages'] = voltage_data['voltages'].apply(lambda x: np.mean(x))\n",
    "\n",
    "voltage_data = voltage_data.merge(df, on='relax_uuid', how='left')\n",
    "voltage_data = voltage_data.loc[voltage_data.groupby('formula').e_above_hull.idxmin()]\n",
    "\n",
    "mean_voltages = voltage_data.groupby('formula').avg_voltages.mean()\n",
    "min_voltages = voltage_data.groupby('formula').min_voltages.min()\n",
    "above_hull = voltage_data.groupby('formula').e_above_hull.min()"
   ]
  },
  {
   "cell_type": "code",
   "execution_count": 15,
   "metadata": {},
   "outputs": [
    {
     "data": {
      "text/plain": [
       "['6e026ea5-0687-4559-b0dc-e18c1373a67d',\n",
       " '834fe9a4-5a7b-4f0f-9ce9-82416a2f1be7',\n",
       " '952b260a-37d9-41f5-8c42-4c628682eef1',\n",
       " '1d727e34-9367-4628-b0f8-1688ff430369',\n",
       " '86b7066b-ef64-4abe-8b76-cc776506893d',\n",
       " '1faf7138-e2e9-4c41-96a4-a3d5b2436661',\n",
       " '3b8edea7-b3e4-4500-82e5-7664220a2c44',\n",
       " 'e5aa54b1-31cf-4283-985a-6e8361dfe5dd',\n",
       " 'fc3028cd-8a72-439e-9d0f-1db52df50de6',\n",
       " 'de82dcb5-6836-4942-8002-ed003f6dacba',\n",
       " 'fdb87eb0-8383-431d-902d-70e777aa01ef']"
      ]
     },
     "execution_count": 15,
     "metadata": {},
     "output_type": "execute_result"
    }
   ],
   "source": [
    "voltage_data.deli_uuid.to_list()"
   ]
  },
  {
   "cell_type": "code",
   "execution_count": 192,
   "metadata": {},
   "outputs": [
    {
     "data": {
      "text/plain": [
       "<matplotlib.axes._subplots.AxesSubplot at 0x7fb84b545810>"
      ]
     },
     "execution_count": 192,
     "metadata": {},
     "output_type": "execute_result"
    },
    {
     "data": {
      "image/png": "[encoded data removed]",
      "text/plain": [
       "<Figure size 432x288 with 1 Axes>"
      ]
     },
     "metadata": {
      "needs_background": "light"
     },
     "output_type": "display_data"
    }
   ],
   "source": [
    "mean_voltages.plot.bar()"
   ]
  },
  {
   "cell_type": "code",
   "execution_count": 193,
   "metadata": {},
   "outputs": [
    {
     "data": {
      "text/plain": [
       "<matplotlib.axes._subplots.AxesSubplot at 0x7fb849b8f3d0>"
      ]
     },
     "execution_count": 193,
     "metadata": {},
     "output_type": "execute_result"
    },
    {
     "data": {
      "image/png": "[encoded data removed]",
      "text/plain": [
       "<Figure size 432x288 with 1 Axes>"
      ]
     },
     "metadata": {
      "needs_background": "light"
     },
     "output_type": "display_data"
    }
   ],
   "source": [
    "min_voltages.plot.bar()"
   ]
  },
  {
   "cell_type": "code",
   "execution_count": 194,
   "metadata": {},
   "outputs": [],
   "source": [
    "voltage_formula = pd.concat([min_voltages, mean_voltages, above_hull], axis=1)"
   ]
  },
  {
   "cell_type": "code",
   "execution_count": 195,
   "metadata": {},
   "outputs": [
    {
     "data": {
      "text/plain": [
       "(1.5, 3.0)"
      ]
     },
     "execution_count": 195,
     "metadata": {},
     "output_type": "execute_result"
    },
    {
     "data": {
      "image/png": "[encoded data removed]",
      "text/plain": [
       "<Figure size 432x288 with 1 Axes>"
      ]
     },
     "metadata": {
      "needs_background": "light"
     },
     "output_type": "display_data"
    }
   ],
   "source": [
    "ax = voltage_formula.plot.bar(y=['min_voltages', 'avg_voltages'])\n",
    "ax.set_ylim(1.5, 3.0)"
   ]
  },
  {
   "cell_type": "code",
   "execution_count": 196,
   "metadata": {},
   "outputs": [
    {
     "data": {
      "image/png": "[encoded data removed]",
      "text/plain": [
       "<Figure size 432x288 with 1 Axes>"
      ]
     },
     "metadata": {
      "needs_background": "light"
     },
     "output_type": "display_data"
    }
   ],
   "source": [
    "ax = voltage_formula.plot.scatter(x='e_above_hull', y='min_voltages', marker='x')\n",
    "\n",
    "for form, row in voltage_formula.iterrows():\n",
    "    ax.annotate(form, (row.e_above_hull, row.min_voltages), (5, 5), textcoords='offset points')"
   ]
  },
  {
   "cell_type": "markdown",
   "metadata": {},
   "source": [
    "## Assemble a table\n",
    "\n",
    "Shows the best structure of each compositions and its energy above hull value, the voltage (min) and the volume change,\n",
    "expected current density and the energy density"
   ]
  },
  {
   "cell_type": "code",
   "execution_count": 251,
   "metadata": {},
   "outputs": [],
   "source": [
    "from toolchest.battery.metrics import TheoreticalCathode\n",
    "from pymatgen import Composition\n",
    "\n",
    "def compute_capacity(row):\n",
    "    \"\"\"Compute the capacity\"\"\"\n",
    "    comp = Composition(row.formula)\n",
    "    nli = min(comp['Fe'], comp['Li'])\n",
    "    cathode = TheoreticalCathode(comp, nli=nli, avg_voltage=row.min_voltages, label=row.formula)\n",
    "    return cathode.mAhg, cathode.Whkg"
   ]
  },
  {
   "cell_type": "code",
   "execution_count": 198,
   "metadata": {},
   "outputs": [],
   "source": [
    "most_stable = voltage_data.loc[voltage_data.groupby('formula')['e_above_hull'].idxmin()]"
   ]
  },
  {
   "cell_type": "code",
   "execution_count": 264,
   "metadata": {},
   "outputs": [],
   "source": [
    "records = []\n",
    "indices = []\n",
    "for idx, row in most_stable.iterrows():\n",
    "    deli_data = row.deli_data\n",
    "    voltage_data = row.voltage_dict\n",
    "    imin = np.argsort(voltage_data['voltage'])[0]\n",
    "    ideli = len(voltage_data['voltage'])\n",
    "    vols = []\n",
    "    for i in range(ideli):\n",
    "        inp = load_node(deli_data['input_structure'][i])\n",
    "        out = load_node(deli_data['output_structure'][i])\n",
    "        vols.append((out.get_cell_volume() - inp.get_cell_volume()) / inp.get_cell_volume())\n",
    "    mahg, whkg = compute_capacity(row)\n",
    "    records.append([vols[imin], voltage_data, mahg, whkg])\n",
    "    indices.append(idx)\n",
    "extra_prop = pd.DataFrame(records, columns=['volume_change', 'voltage_data', 'mAh/g', 'Wh/kg'], index=indices)"
   ]
  },
  {
   "cell_type": "code",
   "execution_count": 265,
   "metadata": {},
   "outputs": [],
   "source": [
    "output = pd.concat([most_stable, extra_prop], axis=1)"
   ]
  },
  {
   "cell_type": "code",
   "execution_count": 266,
   "metadata": {},
   "outputs": [
    {
     "data": {
      "text/html": [
       "<div>\n",
       "<style scoped>\n",
       "    .dataframe tbody tr th:only-of-type {\n",
       "        vertical-align: middle;\n",
       "    }\n",
       "\n",
       "    .dataframe tbody tr th {\n",
       "        vertical-align: top;\n",
       "    }\n",
       "\n",
       "    .dataframe thead th {\n",
       "        text-align: right;\n",
       "    }\n",
       "</style>\n",
       "<table border=\"1\" class=\"dataframe\">\n",
       "  <thead>\n",
       "    <tr style=\"text-align: right;\">\n",
       "      <th></th>\n",
       "      <th>formula</th>\n",
       "      <th>min_voltages</th>\n",
       "      <th>volume_change</th>\n",
       "      <th>volume_change</th>\n",
       "      <th>e_above_hull</th>\n",
       "      <th>mAh/g</th>\n",
       "      <th>Wh/kg</th>\n",
       "      <th>decomp</th>\n",
       "      <th>min_volt_relax</th>\n",
       "    </tr>\n",
       "  </thead>\n",
       "  <tbody>\n",
       "    <tr>\n",
       "      <th>28</th>\n",
       "      <td>Li2FeSO</td>\n",
       "      <td>2.339523</td>\n",
       "      <td>-0.044623</td>\n",
       "      <td>-0.044623</td>\n",
       "      <td>0.000000e+00</td>\n",
       "      <td>227.533431</td>\n",
       "      <td>532.319773</td>\n",
       "      <td>Li2FeSO</td>\n",
       "      <td>2d9b9537-1843-4518-9abc-5d2f85f0ea15</td>\n",
       "    </tr>\n",
       "    <tr>\n",
       "      <th>13</th>\n",
       "      <td>Li2Fe4S3O2</td>\n",
       "      <td>2.716773</td>\n",
       "      <td>-0.073478</td>\n",
       "      <td>-0.073478</td>\n",
       "      <td>8.881784e-16</td>\n",
       "      <td>146.674270</td>\n",
       "      <td>398.480714</td>\n",
       "      <td>Li2Fe4S3O2</td>\n",
       "      <td>3d24b13d-1a48-41e6-a9f2-d6550e72e5d4</td>\n",
       "    </tr>\n",
       "    <tr>\n",
       "      <th>17</th>\n",
       "      <td>Li2Fe3(SO)2</td>\n",
       "      <td>2.567981</td>\n",
       "      <td>-0.100118</td>\n",
       "      <td>-0.100118</td>\n",
       "      <td>3.356444e-03</td>\n",
       "      <td>193.131954</td>\n",
       "      <td>495.959166</td>\n",
       "      <td>Li2FeSO+FeO+Li2Fe4S3O2</td>\n",
       "      <td>a226a5ae-d3f5-4403-9a8a-9703ab39b668</td>\n",
       "    </tr>\n",
       "    <tr>\n",
       "      <th>24</th>\n",
       "      <td>Li2Fe2S2O</td>\n",
       "      <td>2.853666</td>\n",
       "      <td>-0.116797</td>\n",
       "      <td>-0.116797</td>\n",
       "      <td>3.385171e-03</td>\n",
       "      <td>260.586281</td>\n",
       "      <td>743.626164</td>\n",
       "      <td>Li2Fe4S3O2+Li2S</td>\n",
       "      <td>62a7e398-50a7-49b9-b4ec-b85f1a88f637</td>\n",
       "    </tr>\n",
       "    <tr>\n",
       "      <th>12</th>\n",
       "      <td>Li4Fe3S3O2</td>\n",
       "      <td>2.549100</td>\n",
       "      <td>-0.033542</td>\n",
       "      <td>-0.033542</td>\n",
       "      <td>1.807660e-02</td>\n",
       "      <td>248.550954</td>\n",
       "      <td>633.581231</td>\n",
       "      <td>Li2FeSO+Li2Fe4S3O2+Li2S</td>\n",
       "      <td>5e51e723-f0c1-4212-9546-a8c146f6de9b</td>\n",
       "    </tr>\n",
       "    <tr>\n",
       "      <th>3</th>\n",
       "      <td>Li4Fe3S4O</td>\n",
       "      <td>2.472016</td>\n",
       "      <td>-0.037815</td>\n",
       "      <td>-0.037815</td>\n",
       "      <td>3.053905e-02</td>\n",
       "      <td>236.791209</td>\n",
       "      <td>585.351645</td>\n",
       "      <td>Li2Fe4S3O2+FeS+Li2S</td>\n",
       "      <td>2f6e776a-a2e6-4a42-a564-7481598f3a3d</td>\n",
       "    </tr>\n",
       "    <tr>\n",
       "      <th>0</th>\n",
       "      <td>Li2Fe4S4O</td>\n",
       "      <td>2.586309</td>\n",
       "      <td>-0.069035</td>\n",
       "      <td>-0.069035</td>\n",
       "      <td>3.862633e-02</td>\n",
       "      <td>140.497919</td>\n",
       "      <td>363.370995</td>\n",
       "      <td>Li2Fe4S3O2+FeS+Li2S</td>\n",
       "      <td>ab38fb52-7685-4494-b009-28deaa7ca2b3</td>\n",
       "    </tr>\n",
       "    <tr>\n",
       "      <th>4</th>\n",
       "      <td>Li4Fe2S3O</td>\n",
       "      <td>2.091393</td>\n",
       "      <td>-0.055008</td>\n",
       "      <td>-0.055008</td>\n",
       "      <td>4.579586e-02</td>\n",
       "      <td>213.007366</td>\n",
       "      <td>445.482127</td>\n",
       "      <td>Li2Fe4S3O2+Li2S</td>\n",
       "      <td>48922a50-da4b-4cc3-acd4-94038c64bdfb</td>\n",
       "    </tr>\n",
       "    <tr>\n",
       "      <th>6</th>\n",
       "      <td>Li6FeSO3</td>\n",
       "      <td>1.903522</td>\n",
       "      <td>-0.099812</td>\n",
       "      <td>-0.099812</td>\n",
       "      <td>4.629966e-02</td>\n",
       "      <td>150.948169</td>\n",
       "      <td>287.333230</td>\n",
       "      <td>Li2O+Li2FeO2+Li2S</td>\n",
       "      <td>a4564dd1-9248-4b23-bf9b-9d011e94f411</td>\n",
       "    </tr>\n",
       "    <tr>\n",
       "      <th>20</th>\n",
       "      <td>Li2Fe3S3O</td>\n",
       "      <td>2.445469</td>\n",
       "      <td>-0.075694</td>\n",
       "      <td>-0.075694</td>\n",
       "      <td>4.883292e-02</td>\n",
       "      <td>182.564310</td>\n",
       "      <td>446.455392</td>\n",
       "      <td>Li2Fe4S3O2+FeS+Li2S</td>\n",
       "      <td>b49b89df-c6ef-4f33-99f1-2dec41d2dbf4</td>\n",
       "    </tr>\n",
       "    <tr>\n",
       "      <th>9</th>\n",
       "      <td>Li6FeS3O</td>\n",
       "      <td>2.280511</td>\n",
       "      <td>0.015782</td>\n",
       "      <td>0.015782</td>\n",
       "      <td>4.986199e-02</td>\n",
       "      <td>127.817585</td>\n",
       "      <td>291.489455</td>\n",
       "      <td>Li2FeSO+Li2S</td>\n",
       "      <td>e53b39eb-46c4-4191-93cd-daeca90365a1</td>\n",
       "    </tr>\n",
       "  </tbody>\n",
       "</table>\n",
       "</div>"
      ],
      "text/plain": [
       "        formula  min_voltages  volume_change  volume_change  e_above_hull  \\\n",
       "28      Li2FeSO      2.339523      -0.044623      -0.044623  0.000000e+00   \n",
       "13   Li2Fe4S3O2      2.716773      -0.073478      -0.073478  8.881784e-16   \n",
       "17  Li2Fe3(SO)2      2.567981      -0.100118      -0.100118  3.356444e-03   \n",
       "24    Li2Fe2S2O      2.853666      -0.116797      -0.116797  3.385171e-03   \n",
       "12   Li4Fe3S3O2      2.549100      -0.033542      -0.033542  1.807660e-02   \n",
       "3     Li4Fe3S4O      2.472016      -0.037815      -0.037815  3.053905e-02   \n",
       "0     Li2Fe4S4O      2.586309      -0.069035      -0.069035  3.862633e-02   \n",
       "4     Li4Fe2S3O      2.091393      -0.055008      -0.055008  4.579586e-02   \n",
       "6      Li6FeSO3      1.903522      -0.099812      -0.099812  4.629966e-02   \n",
       "20    Li2Fe3S3O      2.445469      -0.075694      -0.075694  4.883292e-02   \n",
       "9      Li6FeS3O      2.280511       0.015782       0.015782  4.986199e-02   \n",
       "\n",
       "         mAh/g       Wh/kg                   decomp  \\\n",
       "28  227.533431  532.319773                  Li2FeSO   \n",
       "13  146.674270  398.480714               Li2Fe4S3O2   \n",
       "17  193.131954  495.959166   Li2FeSO+FeO+Li2Fe4S3O2   \n",
       "24  260.586281  743.626164          Li2Fe4S3O2+Li2S   \n",
       "12  248.550954  633.581231  Li2FeSO+Li2Fe4S3O2+Li2S   \n",
       "3   236.791209  585.351645      Li2Fe4S3O2+FeS+Li2S   \n",
       "0   140.497919  363.370995      Li2Fe4S3O2+FeS+Li2S   \n",
       "4   213.007366  445.482127          Li2Fe4S3O2+Li2S   \n",
       "6   150.948169  287.333230        Li2O+Li2FeO2+Li2S   \n",
       "20  182.564310  446.455392      Li2Fe4S3O2+FeS+Li2S   \n",
       "9   127.817585  291.489455             Li2FeSO+Li2S   \n",
       "\n",
       "                          min_volt_relax  \n",
       "28  2d9b9537-1843-4518-9abc-5d2f85f0ea15  \n",
       "13  3d24b13d-1a48-41e6-a9f2-d6550e72e5d4  \n",
       "17  a226a5ae-d3f5-4403-9a8a-9703ab39b668  \n",
       "24  62a7e398-50a7-49b9-b4ec-b85f1a88f637  \n",
       "12  5e51e723-f0c1-4212-9546-a8c146f6de9b  \n",
       "3   2f6e776a-a2e6-4a42-a564-7481598f3a3d  \n",
       "0   ab38fb52-7685-4494-b009-28deaa7ca2b3  \n",
       "4   48922a50-da4b-4cc3-acd4-94038c64bdfb  \n",
       "6   a4564dd1-9248-4b23-bf9b-9d011e94f411  \n",
       "20  b49b89df-c6ef-4f33-99f1-2dec41d2dbf4  \n",
       "9   e53b39eb-46c4-4191-93cd-daeca90365a1  "
      ]
     },
     "execution_count": 266,
     "metadata": {},
     "output_type": "execute_result"
    }
   ],
   "source": [
    "output[['formula', 'min_voltages', 'volume_change', 'e_above_hull', 'mAh/g', 'Wh/kg', 'decomp', 'min_volt_relax']].sort_values('e_above_hull')"
   ]
  },
  {
   "cell_type": "code",
   "execution_count": 278,
   "metadata": {},
   "outputs": [],
   "source": [
    "def view_deli(row):\n",
    "    li = row.relaxed_structure.get_ase()\n",
    "    de = load_node(row.min_volt_relax).outputs.relax__structure.get_ase()\n",
    "    view([li, de])"
   ]
  },
  {
   "cell_type": "code",
   "execution_count": 285,
   "metadata": {},
   "outputs": [],
   "source": [
    "view_deli(output.sort_values('e_above_hull').loc[3])"
   ]
  }
 ],
 "metadata": {
  "kernelspec": {
   "display_name": "Python [conda env:aiida-1.0-py3]",
   "language": "python",
   "name": "conda-env-aiida-1.0-py3-py"
  },
  "language_info": {
   "codemirror_mode": {
    "name": "ipython",
    "version": 3
   },
   "file_extension": ".py",
   "mimetype": "text/x-python",
   "name": "python",
   "nbconvert_exporter": "python",
   "pygments_lexer": "ipython3",
   "version": "3.8.10"
  }
 },
 "nbformat": 4,
 "nbformat_minor": 4
}
