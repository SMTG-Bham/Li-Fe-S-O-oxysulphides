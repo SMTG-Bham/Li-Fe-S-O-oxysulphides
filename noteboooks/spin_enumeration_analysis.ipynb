{
 "cells": [
  {
   "cell_type": "markdown",
   "id": "12d81dc8-3a69-4de7-86d8-54f83909ca54",
   "metadata": {},
   "source": [
    "## Analyse the spin enumeration results\n",
    "\n",
    "Is it necessary to enumerate the spin?"
   ]
  },
  {
   "cell_type": "code",
   "execution_count": 1,
   "id": "36baf1d9-0cf8-4aa5-82be-a8dd55833d4d",
   "metadata": {},
   "outputs": [
    {
     "name": "stdout",
     "output_type": "stream",
     "text": [
      "Entries for magnetic enumeration calculations: 518\n"
     ]
    },
    {
     "data": {
      "application/vnd.jupyter.widget-view+json": {
       "model_id": "2109834936064767811162ae57ca5c1f",
       "version_major": 2,
       "version_minor": 0
      },
      "text/plain": [
       "  0%|          | 0/518 [00:00<?, ?it/s]"
      ]
     },
     "metadata": {},
     "output_type": "display_data"
    }
   ],
   "source": [
    "%aiida\n",
    "from aiida.orm import StructureData\n",
    "from toolchest.hull import get_enumerate_records\n",
    "\n",
    "sgroup_run2 = Group.objects.get(label='li-fe-o-s/run2-airss-refine-structures')\n",
    "sgroup_run1 = Group.objects.get(label='li-fe-o-s/run1-airss-refine-structures')\n",
    "enum_df = get_enumerate_records([sgroup_run1, sgroup_run2], 520)\n",
    "\n",
    "enum_df['n_fe'] = enum_df['pmg_struct'].apply(lambda x: x.composition['Fe'])\n",
    "enum_df['chemsys'] = enum_df['pmg_struct'].apply(lambda x: x.composition.chemical_system)\n",
    "enum_df['natoms'] = enum_df['structure'].apply(lambda x: len(x.sites))\n",
    "enum_df['e_pa'] = enum_df['energy'] / enum_df['natoms']"
   ]
  },
  {
   "cell_type": "code",
   "execution_count": 14,
   "id": "902d7f63-a34a-411b-a481-0304752f161a",
   "metadata": {},
   "outputs": [],
   "source": [
    "q = QueryBuilder()\n",
    "q.append(Group, filters={'id': {'in': [sgroup_run1.id, sgroup_run2.id]}})\n",
    "q.append(Node, with_group=Group)\n",
    "q.append(WorkflowFactory('vaspu.relax'))\n",
    "q.append(StructureData, project=['label', '*'])\n",
    "q.append(WorkChainNode, filters={'process_type': 'aiida.workflows:vaspu.magnetic'}, project=['uuid'])\n",
    "q.append(Dict, project=['attributes'])\n",
    "lable, structure, uuid, data = q.first()"
   ]
  },
  {
   "cell_type": "code",
   "execution_count": 16,
   "id": "be166aac-7361-4831-b733-df313ac68f9c",
   "metadata": {},
   "outputs": [
    {
     "name": "stdout",
     "output_type": "stream",
     "text": [
      "Fe2+: Li4Fe3S3O2     : -68.568 (-17.142) meV LFSO-Li4Fe3S3O2-200926-154112-68ece2 RELAXED\n",
      "Fe2+: Li2FeSO        : -67.409 (-13.482) meV LFSO-Li2FeSO-200912-001832-2b9b69.res\n",
      "Fe2+: Li2Fe4S3O2     : -63.587 (-23.123) meV LFSO-Li2Fe4S3O2-200912-051915-e358d4.res\n",
      "Fe2+: Li2Fe2S2O      : -46.806 (-13.373) meV LFSO-Li2Fe2S2O-200913-112906-1643ea.res\n",
      "Fe2+: Li2FeSO        : -62.710 (-12.542) meV LFSO-Li2FeSO-201025-015107-3451c2 RELAXED\n",
      "Fe2+: Li2Fe4S3O2     : -54.790 (-19.923) meV LFSO-Li2Fe4S3O2-201025-153957-9403b6 RELAXED\n",
      "Fe2+: Li2Fe2S2O      : -31.977 (-9.136) meV LFSO-Li2Fe2S2O-201022-042623-e6d3a9 RELAXED\n"
     ]
    }
   ],
   "source": [
    "selected = ['Li2FeSO', 'Li2Fe2S2O', 'Li4Fe3S3O2', 'Li2Fe4S3O2']\n",
    "def print_de(label, structure, data):\n",
    "    fme = data['energy'][0]\n",
    "    emin = min(data['energy'])\n",
    "    de = emin - fme\n",
    "    ps = structure.get_pymatgen()\n",
    "    ps.add_oxidation_state_by_guess()\n",
    "    comp_reduced = structure.get_pymatgen().composition.get_reduced_composition_and_factor()[0]\n",
    "    if comp_reduced.reduced_formula not in selected:\n",
    "        return\n",
    "    nfe = comp_reduced['Fe']\n",
    "    natom = comp_reduced.num_atoms\n",
    "    if ps.composition['Fe2+'] > 0:\n",
    "        print(f'Fe2+: {comp_reduced.reduced_formula:<15}: {de*1e3 / nfe:.3f} ({de * 1e3 / natom:.3f}) meV {label}')\n",
    "    else:\n",
    "        print(f'Fe3+: {comp_reduced.reduced_formula:<15}: {de*1e3 / nef:.3f} ({de * 1e3 / natom:.3f}) meV {label}')\n",
    "    \n",
    "uuids = []\n",
    "for label, structure, uuid, data in q.all():\n",
    "    print_de(label, structure, data)\n",
    "    uuids.append(uuid)"
   ]
  }
 ],
 "metadata": {
  "kernelspec": {
   "display_name": "Python [conda env:aiida-1.0-py3]",
   "language": "python",
   "name": "conda-env-aiida-1.0-py3-py"
  },
  "language_info": {
   "codemirror_mode": {
    "name": "ipython",
    "version": 3
   },
   "file_extension": ".py",
   "mimetype": "text/x-python",
   "name": "python",
   "nbconvert_exporter": "python",
   "pygments_lexer": "ipython3",
   "version": "3.8.10"
  }
 },
 "nbformat": 4,
 "nbformat_minor": 5
}
