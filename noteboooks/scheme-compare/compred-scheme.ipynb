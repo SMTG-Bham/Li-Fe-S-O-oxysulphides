{
 "cells": [
  {
   "cell_type": "markdown",
   "id": "2d1fd4c9-2b94-45e7-a58f-646475afe6c5",
   "metadata": {},
   "source": [
    "## Compare the two scheme MP and what is used here\n",
    "\n",
    "For MP, FeS is computed using GGA and GGA+U entries have been corrected using the factors\n",
    "\n",
    "Note that these are not what used in the calculation below by default - those data are extract from JANNAF table.\n",
    "\n",
    "\n",
    "\n",
    "| Compound | kcal / mol | eV\n",
    "| ---------- | ---- | ---- |\n",
    "|FeS    |-24\t|-1.040712\n",
    "|FeS2\t|-41\t|-1.777883\n",
    "|Fe3O4\t|-266.9\t|-11.5735847\n",
    "|Fe2O3\t|-196.3\t|-8.5121569\n",
    "|FeO\t|-63.2\t|-2.7405416\n",
    "|Li2O   |-142.6 | -6.18356\n",
    "|Li2S   | -106.7 | -4.62683 \n",
    "\n",
    "The data in the json file are extracted from the *Kubaschewski Table*.\n",
    "Running will require an AiiDA profile with the data imported as reactions are directly loaded from the database.  \n",
    "However, it is possible to replot the summary using saved data."
   ]
  },
  {
   "cell_type": "code",
   "execution_count": 1,
   "id": "df1a3ccf-cb5e-44e4-841b-a8a3aa9fb261",
   "metadata": {},
   "outputs": [
    {
     "data": {
      "application/json": {
       "current_state": "Loaded AiiDA DB environment - profile name: quicksetup."
      },
      "text/html": [
       "<p>Loaded AiiDA DB environment - profile name: quicksetup.</p>"
      ],
      "text/latex": [
       "Loaded AiiDA DB environment - profile name: quicksetup.\n"
      ],
      "text/plain": [
       "Loaded AiiDA DB environment - profile name: quicksetup.\n"
      ]
     },
     "execution_count": 1,
     "metadata": {},
     "output_type": "execute_result"
    }
   ],
   "source": [
    "%aiida"
   ]
  },
  {
   "cell_type": "code",
   "execution_count": 2,
   "id": "3583133f-e224-4e36-be12-4fc532a7b09c",
   "metadata": {},
   "outputs": [],
   "source": [
    "from pymatgen.ext.matproj import MPRester\n",
    "from monty.serialization import loadfn\n",
    "from pymatgen.analysis.reaction_calculator import ComputedReaction, ComputedEntry\n"
   ]
  },
  {
   "cell_type": "code",
   "execution_count": 3,
   "id": "e552126d-724c-4ae5-8808-b53d759a168a",
   "metadata": {},
   "outputs": [],
   "source": [
    "def load_from_table():\n",
    "    data = \"\"\"\n",
    "Compound \tkcal / mol \teV\n",
    "FeS \t-24 \t-1.040712\n",
    "FeS2 \t-41 \t-1.777883\n",
    "Fe3O4 \t-266.9 \t-11.5735847\n",
    "Fe2O3 \t-196.3 \t-8.5121569\n",
    "FeO \t-63.2 \t-2.7405416\n",
    "Li2O \t-142.6 \t-6.18356\n",
    "Li2S \t-106.7 \t-4.62683\"\"\"\n",
    "\n",
    "    entries_exp = {}\n",
    "    for line in data.split('\\n')[2:]:\n",
    "        comp, _, eng = line.split()\n",
    "        entries_exp[comp] = ComputedEntry(comp, float(eng))\n",
    "    return entries_exp\n",
    "\n",
    "# Data from the K\n",
    "entries_exp = {entry.composition.reduced_formula : entry for entry in loadfn('experimental.json')[0]}\n",
    "#entries_exp = load_from_table()  # Uncomment to use the JANNAF table data\n",
    "entries_comp = {entry.composition.reduced_formula : entry for entry in loadfn('computed-this-work.json')[0]}\n",
    "o2_comp = ComputedEntry('O2', -9.8868095, correction=1.33)\n",
    "entries_comp['O2'] = o2_comp\n",
    "entries_exp['Fe'] = ComputedEntry('Fe', 0.0)\n",
    "entries_exp['O2'] = ComputedEntry('O2', 0.0)\n",
    "entries_exp['S'] = ComputedEntry('S', 0.0)\n"
   ]
  },
  {
   "cell_type": "code",
   "execution_count": 4,
   "id": "aab64f4e-57a6-445e-be8f-03e24efb5204",
   "metadata": {},
   "outputs": [],
   "source": [
    "from pymatgen.entries.compatibility import MaterialsProject2020Compatibility, MaterialsProjectCompatibility, MODULE_DIR\n",
    "from monty.serialization import dumpfn, loadfn"
   ]
  },
  {
   "cell_type": "raw",
   "id": "a655ab19-d85e-41ca-83fe-25e676498859",
   "metadata": {},
   "source": [
    "rester = MPRester()\n",
    "mp_entries = {comp: rester.get_entries(comp, property_data=['e_above_hull'], sort_by_e_above_hull=True)[0]\n",
    "              for comp in ['FeO', 'Fe2O3', 'Fe3O4', 'Li2O', 'Li2S', 'FeS', 'FeS2', 'O2', 'Fe']}\n",
    "\n",
    "dumpfn(mp_entries, 'mp-entry-data.json')"
   ]
  },
  {
   "cell_type": "code",
   "execution_count": 5,
   "id": "272bfc0e-8cb9-43dd-a92b-1a4c3fef3df0",
   "metadata": {},
   "outputs": [
    {
     "name": "stderr",
     "output_type": "stream",
     "text": [
      "/home/bonan/miniconda3/envs/aiida/lib/python3.8/site-packages/monty/json.py:176: FutureWarning: __init__ is deprecated\n",
      "MaterialsProjectCompatibility will be updated with new correction classes as well as new values of corrections and uncertainties in 2020\n",
      "  return cls(**decoded)\n"
     ]
    }
   ],
   "source": [
    "# Load the entries from the saved JSON file\n",
    "mp_entries_2020 = loadfn('mp-entry-data.json')\n",
    "mp_entries_previous = loadfn('mp-entry-data.json')"
   ]
  },
  {
   "cell_type": "code",
   "execution_count": 6,
   "id": "cd7ecf2a-c32d-44e0-b561-d9883e32ecea",
   "metadata": {
    "tags": []
   },
   "outputs": [
    {
     "name": "stdout",
     "output_type": "stream",
     "text": [
      "9,16c9,16\r\n",
      "<       V: -1.602\r\n",
      "<       Cr: -1.893\r\n",
      "<       Mn: -1.588\r\n",
      "<       Fe: -2.182\r\n",
      "<       Co: -1.535\r\n",
      "<       Ni: -2.504\r\n",
      "<       W: -4.57\r\n",
      "<       Mo: -3.058\r\n",
      "---\r\n",
      ">       V: -1.7\r\n",
      ">       Cr: -1.999\r\n",
      ">       Mn: -1.668\r\n",
      ">       Fe: -2.256\r\n",
      ">       Co: -1.638\r\n",
      ">       Ni: -2.541\r\n",
      ">       W: -4.438\r\n",
      ">       Mo: -3.202\r\n",
      "18,25c18,25\r\n",
      "<       V: -1.602\r\n",
      "<       Cr: -1.893\r\n",
      "<       Mn: -1.588\r\n",
      "<       Fe: -2.182\r\n",
      "<       Co: -1.535\r\n",
      "<       Ni: -2.504\r\n",
      "<       W: -4.57\r\n",
      "<       Mo: -3.058\r\n",
      "---\r\n",
      ">       V: -1.7\r\n",
      ">       Cr: -1.999\r\n",
      ">       Mn: -1.668\r\n",
      ">       Fe: -2.256\r\n",
      ">       Co: -1.638\r\n",
      ">       Ni: -2.541\r\n",
      ">       W: -4.438\r\n",
      ">       Mo: -3.202\r\n",
      "29,39c29,39\r\n",
      "<     oxide: -0.74\r\n",
      "<     peroxide: -0.466\r\n",
      "<     superoxide: -0.16\r\n",
      "<     S: -0.639\r\n",
      "<     F: -0.485\r\n",
      "<     Cl: -0.593\r\n",
      "<     Br: -0.538\r\n",
      "<     I: -0.377\r\n",
      "<     N: -0.344\r\n",
      "<     Se: -0.473\r\n",
      "<     Si: -0.406\r\n",
      "---\r\n",
      ">     oxide: -0.687\r\n",
      ">     peroxide: -0.465\r\n",
      ">     superoxide: -0.161\r\n",
      ">     S: -0.503\r\n",
      ">     F: -0.462\r\n",
      ">     Cl: -0.614\r\n",
      ">     Br: -0.534\r\n",
      ">     I: -0.379\r\n",
      ">     N: -0.361\r\n",
      ">     Se: -0.472\r\n",
      ">     Si: 0.071\r\n",
      "41,42c41,42\r\n",
      "<     Te: -0.419\r\n",
      "<     H: -0.178\r\n",
      "---\r\n",
      ">     Te: -0.422\r\n",
      ">     H: -0.179\r\n",
      "48,55c48,55\r\n",
      "<       V: 0.006\r\n",
      "<       Cr: 0.0093\r\n",
      "<       Mn: 0.0051\r\n",
      "<       Fe: 0.009\r\n",
      "<       Co: 0.0059\r\n",
      "<       Ni: 0.0105\r\n",
      "<       W: 0.0181\r\n",
      "<       Mo: 0.0085\r\n",
      "---\r\n",
      ">       V: 0.0064\r\n",
      ">       Cr: 0.0108\r\n",
      ">       Mn: 0.0053\r\n",
      ">       Fe: 0.0101\r\n",
      ">       Co: 0.006\r\n",
      ">       Ni: 0.0107\r\n",
      ">       W: 0.0253\r\n",
      ">       Mo: 0.0089\r\n",
      "57,64c57,64\r\n",
      "<       V: 0.006\r\n",
      "<       Cr: 0.0093\r\n",
      "<       Mn: 0.0051\r\n",
      "<       Fe: 0.009\r\n",
      "<       Co: 0.0059\r\n",
      "<       Ni: 0.0105\r\n",
      "<       W: 0.0181\r\n",
      "<       Mo: 0.0085\r\n",
      "---\r\n",
      ">       V: 0.0064\r\n",
      ">       Cr: 0.0108\r\n",
      ">       Mn: 0.0053\r\n",
      ">       Fe: 0.0101\r\n",
      ">       Co: 0.006\r\n",
      ">       Ni: 0.0107\r\n",
      ">       W: 0.0253\r\n",
      ">       Mo: 0.0089\r\n",
      "66,67c66,67\r\n",
      "<     oxide: 0.0017\r\n",
      "<     peroxide: 0.0186\r\n",
      "---\r\n",
      ">     oxide: 0.002\r\n",
      ">     peroxide: 0.0172\r\n",
      "69,74c69,74\r\n",
      "<     S: 0.0121\r\n",
      "<     F: 0.0025\r\n",
      "<     Cl: 0.0016\r\n",
      "<     Br: 0.0022\r\n",
      "<     I: 0.0059\r\n",
      "<     N: 0.0084\r\n",
      "---\r\n",
      ">     S: 0.0093\r\n",
      ">     F: 0.0026\r\n",
      ">     Cl: 0.0018\r\n",
      ">     Br: 0.0026\r\n",
      ">     I: 0.0055\r\n",
      ">     N: 0.0093\r\n",
      "76c76\r\n",
      "<     Si: 0.0621\r\n",
      "---\r\n",
      ">     Si: 0.0165\r\n",
      "78c78\r\n",
      "<     Te: 0.024\r\n",
      "---\r\n",
      ">     Te: 0.0262\r\n"
     ]
    }
   ],
   "source": [
    "# Patch the compatibility file\n",
    "# Because the exact fitting values of the MP2020Compatibility appears to be reivsed between different MP versions\n",
    "# The MP2020Compatibility.yaml in the current dir is downloaded from version 2022.0.8 and will be applied to the pymatgen installation directory!\n",
    "import shutil\n",
    "from pathlib import Path\n",
    "filepath = Path(MODULE_DIR) / \"MP2020Compatibility.yaml\"\n",
    "! diff {filepath} MP2020Compatibility.yaml"
   ]
  },
  {
   "cell_type": "code",
   "execution_count": 7,
   "id": "5ce28934-47b7-4821-a27e-9c3bb552dc0e",
   "metadata": {},
   "outputs": [
    {
     "data": {
      "text/plain": [
       "PosixPath('/home/bonan/miniconda3/envs/aiida/lib/python3.8/site-packages/pymatgen/entries/MP2020Compatibility.yaml')"
      ]
     },
     "execution_count": 7,
     "metadata": {},
     "output_type": "execute_result"
    }
   ],
   "source": [
    "shutil.move(Path(MODULE_DIR) / 'MP2020Compatibility.yaml', Path(MODULE_DIR) / 'MP2020Compatibility.yaml.bak')\n",
    "shutil.copy2('MP2020Compatibility.yaml', Path(MODULE_DIR) / 'MP2020Compatibility.yaml')"
   ]
  },
  {
   "cell_type": "code",
   "execution_count": 8,
   "id": "4f38d052-5749-4d7d-8076-b7532de70f5f",
   "metadata": {},
   "outputs": [],
   "source": [
    "! diff {filepath} MP2020Compatibility.yaml"
   ]
  },
  {
   "cell_type": "code",
   "execution_count": 9,
   "id": "03d84d56-be39-46ea-a875-e221e47fe6c8",
   "metadata": {},
   "outputs": [
    {
     "name": "stderr",
     "output_type": "stream",
     "text": [
      "<ipython-input-9-a66e94c91335>:5: FutureWarning: __init__ is deprecated\n",
      "MaterialsProjectCompatibility will be updated with new correction classes as well as new values of corrections and uncertainties in 2020\n",
      "  key: MaterialsProjectCompatibility().process_entry(value) for key, value in mp_entries_previous.items()\n"
     ]
    }
   ],
   "source": [
    "mp_entries_2020 = {\n",
    "    key: MaterialsProject2020Compatibility().process_entry(value) for key, value in mp_entries_2020.items()\n",
    "}\n",
    "mp_entries_orig = {\n",
    "    key: MaterialsProjectCompatibility().process_entry(value) for key, value in mp_entries_previous.items()\n",
    "}"
   ]
  },
  {
   "cell_type": "markdown",
   "id": "29d22505-2a4e-4196-94ef-3ea706db6144",
   "metadata": {},
   "source": [
    "## Entries using our correction"
   ]
  },
  {
   "cell_type": "code",
   "execution_count": null,
   "id": "071e90ee",
   "metadata": {},
   "outputs": [],
   "source": [
    "from toolchest.hull import get_relax_record_single\n",
    "from copy import deepcopy\n",
    "from toolchest.hull import get_relax_records, get_entry\n",
    "\n",
    "factor = -1.787  # Factor to convert GGAU to GGA, fitting for Fe U=4.0 \n",
    "new_entries = {}\n",
    "for entry in entries_comp.values():\n",
    "    new_entry = deepcopy(entry)\n",
    "    if 'Fe' in entry.composition:\n",
    "        new_entry.correction = entry.composition['Fe'] * factor \n",
    "        new_entries[entry.composition.reduced_formula] = new_entry\n",
    "    else:\n",
    "        new_entries[entry.composition.reduced_formula] = new_entry\n",
    "\n",
    "# Get the FeS, FeS2 without U\n",
    "df = get_relax_records([Group.objects.get(label='li-fe-o-s/mp-structures')], 520)\n",
    "df = df[df.functional == 'pbe']\n",
    "\n",
    "formula = 'FeS'\n",
    "subset = df[df.formula == formula]\n",
    "mask = subset.umap.apply(lambda x: x['Fe'] == 0)\n",
    "subset = subset[mask]\n",
    "extra_entires = get_entry(subset)\n",
    "extra_entires.sort(key = lambda x: x.energy_per_atom)\n",
    "new_entries[formula] = extra_entires[0]\n",
    "\n",
    "formula = 'FeS2'\n",
    "subset = df[df.formula == formula]\n",
    "mask = subset.umap.apply(lambda x: x['Fe'] == 0)\n",
    "subset = subset[mask]\n",
    "extra_entires = get_entry(subset)\n",
    "extra_entires.sort(key = lambda x: x.energy_per_atom)\n",
    "new_entries[formula] = extra_entires[0]\n",
    "\n",
    "\n",
    "formula = 'Fe'\n",
    "subset = df[df.formula == formula]\n",
    "mask = subset.umap.apply(lambda x: x['Fe'] == 0)\n",
    "subset = subset[mask]\n",
    "extra_entires = get_entry(subset)\n",
    "extra_entires.sort(key = lambda x: x.energy_per_atom)\n",
    "new_entries[formula] = extra_entires[0]\n",
    "\n",
    "entries_comp_refit = new_entries"
   ]
  },
  {
   "cell_type": "markdown",
   "id": "f23065e6-6b75-4b9a-b1b1-2511a1d47213",
   "metadata": {},
   "source": [
    "## Save the entries in the json format"
   ]
  },
  {
   "cell_type": "raw",
   "id": "92f6a7fb-681a-49a8-9e19-0f1efbc0572c",
   "metadata": {},
   "source": [
    "dumpfn(entries_exp, 'saved_entries/entries_exp.json')\n",
    "dumpfn(entries_comp, 'saved_entries/entries_comp.json')\n",
    "dumpfn(entries_comp_refit, 'saved_entries/entries_comp_refit.json')\n",
    "dumpfn(mp_entries_orig, 'saved_entries/mp_entires_orig.json')\n",
    "dumpfn(mp_entries_2020, 'saved_entries/mp_entires_2020.json')"
   ]
  },
  {
   "cell_type": "markdown",
   "id": "864f31b7-85cc-47c4-b48e-1a58ad2709c7",
   "metadata": {},
   "source": [
    "## Load the entries from save files"
   ]
  },
  {
   "cell_type": "code",
   "execution_count": 19,
   "id": "c63cbee4-87e7-4e0c-b6b4-d0fb3d80ffc0",
   "metadata": {},
   "outputs": [
    {
     "name": "stderr",
     "output_type": "stream",
     "text": [
      "/home/bonan/miniconda3/envs/aiida/lib/python3.8/site-packages/monty/json.py:176: FutureWarning: __init__ is deprecated\n",
      "MaterialsProjectCompatibility will be updated with new correction classes as well as new values of corrections and uncertainties in 2020\n",
      "  return cls(**decoded)\n"
     ]
    }
   ],
   "source": [
    "entires_exp = loadfn('saved_entries/entries_exp.json')\n",
    "entries_comp = loadfn('saved_entries/entries_comp.json')\n",
    "entries_comp_refit = loadfn('saved_entries/entries_comp_refit.json')\n",
    "mp_entires_orig = loadfn('saved_entries/mp_entires_orig.json')\n",
    "mp_entries_2020 = loadfn('saved_entries/mp_entires_2020.json')"
   ]
  },
  {
   "cell_type": "markdown",
   "id": "3d985706-7e44-4fe0-9799-0219a2dbd1f9",
   "metadata": {},
   "source": [
    "## Compute the reaction energies and add to dictionary"
   ]
  },
  {
   "cell_type": "code",
   "execution_count": 20,
   "id": "4dcc9ec4-2a62-451b-8efc-8d65c70639f1",
   "metadata": {},
   "outputs": [],
   "source": [
    "def print_and_add(entries, labels, collection):\n",
    "    \"\"\"Print energy and add to the dictionary\"\"\"\n",
    "    reactant = [entries[l] for l in labels[0]]\n",
    "    product = [entries[l] for l in labels[1]]\n",
    "    react = ComputedReaction(reactant, product)\n",
    "    print(f'{str(react):<60} energy: {react.calculated_reaction_energy:<10.2f} eV')\n",
    "    collection[f'{str(react)}'] = react\n",
    "    \n",
    "def print_result(entries, collection):\n",
    "    \"\"\"Print energy and add to the dictionary\"\"\"\n",
    "    print_and_add(entries, [['FeS', 'Li2O'], ['FeO', 'Li2S']], collection)\n",
    "    print_and_add(entries, [['FeS2', 'FeO'], ['FeS', 'Fe2O3']], collection)\n",
    "    print_and_add(entries, [['FeS2', 'FeO'], ['FeS', 'Fe3O4']], collection)\n",
    "    return collection\n",
    "\n",
    "def print_fe_formations(entries, collection):\n",
    "    \"\"\"Print energy and add to the dictionary\"\"\"\n",
    "    print_and_add(entries, [['Fe', 'O2'], ['FeO']], collection)\n",
    "    print_and_add(entries, [['Fe', 'O2'], ['Fe2O3']], collection)\n",
    "    print_and_add(entries, [['Fe', 'O2'], ['Fe3O4']], collection)\n",
    "    \n",
    "def print_fe_reactions(entries, collection):\n",
    "    \"\"\"Print energy and add to the dictionary\"\"\"\n",
    "    print_and_add(entries, [['FeO', 'O2'], ['Fe2O3']], collection)\n",
    "    print_and_add(entries, [['FeO', 'O2'], ['Fe3O4']], collection)\n",
    "    print_and_add(entries, [['Fe3O4', 'O2'], ['Fe2O3']], collection)\n"
   ]
  },
  {
   "cell_type": "code",
   "execution_count": 21,
   "id": "4eb0ed2d-60cd-4d06-9234-d294c9f5d820",
   "metadata": {},
   "outputs": [
    {
     "name": "stdout",
     "output_type": "stream",
     "text": [
      "EXP\n",
      "FeS + Li2O -> FeO + Li2S                                     energy: -0.19      eV\n",
      "0.5 FeS2 + 1.5 FeO -> FeS + 0.5 Fe2O3                        energy: -0.21      eV\n",
      "0.5 FeS2 + 2 FeO -> FeS + 0.5 Fe3O4                          energy: -0.33      eV\n",
      "THIS WORK\n",
      "FeS + Li2O -> FeO + Li2S                                     energy: -0.37      eV\n",
      "0.5 FeS2 + 1.5 FeO -> FeS + 0.5 Fe2O3                        energy: -0.46      eV\n",
      "0.5 FeS2 + 2 FeO -> FeS + 0.5 Fe3O4                          energy: -0.56      eV\n",
      "THIS WORK - REFIT\n",
      "FeS + Li2O -> FeO + Li2S                                     energy: 0.46       eV\n",
      "0.5 FeS2 + 1.5 FeO -> FeS + 0.5 Fe2O3                        energy: -0.32      eV\n",
      "0.5 FeS2 + 2 FeO -> FeS + 0.5 Fe3O4                          energy: -0.42      eV\n",
      "MP-ORIG\n",
      "FeS + Li2O -> FeO + Li2S                                     energy: -0.25      eV\n",
      "0.5 FeS2 + 1.5 FeO -> FeS + 0.5 Fe2O3                        energy: 0.17       eV\n",
      "0.5 FeS2 + 2 FeO -> FeS + 0.5 Fe3O4                          energy: 0.22       eV\n",
      "MP-2020\n",
      "FeS + Li2O -> FeO + Li2S                                     energy: 0.30       eV\n",
      "0.5 FeS2 + 1.5 FeO -> FeS + 0.5 Fe2O3                        energy: -0.10      eV\n",
      "0.5 FeS2 + 2 FeO -> FeS + 0.5 Fe3O4                          energy: -0.06      eV\n"
     ]
    },
    {
     "data": {
      "text/plain": [
       "{'FeS + Li2O -> FeO + Li2S': FeS + Li2O -> FeO + Li2S,\n",
       " '0.5 FeS2 + 1.5 FeO -> FeS + 0.5 Fe2O3': 0.5 FeS2 + 1.5 FeO -> FeS + 0.5 Fe2O3,\n",
       " '0.5 FeS2 + 2 FeO -> FeS + 0.5 Fe3O4': 0.5 FeS2 + 2 FeO -> FeS + 0.5 Fe3O4}"
      ]
     },
     "execution_count": 21,
     "metadata": {},
     "output_type": "execute_result"
    }
   ],
   "source": [
    "collection_exp = {}\n",
    "collection_comp = {}\n",
    "collection_comp_refit = {}\n",
    "collection_mp_2020 = {}\n",
    "collection_mp_orig = {}\n",
    "\n",
    "print('EXP')\n",
    "print_result(entries_exp, collection_exp)\n",
    "\n",
    "print('THIS WORK')\n",
    "print_result(entries_comp, collection_comp)\n",
    "\n",
    "print('THIS WORK - REFIT')\n",
    "print_result(entries_comp_refit, collection_comp_refit)\n",
    "\n",
    "print('MP-ORIG')\n",
    "print_result(mp_entries_orig, collection_mp_orig)\n",
    "\n",
    "print('MP-2020')\n",
    "print_result(mp_entries_2020, collection_mp_2020)\n",
    "\n"
   ]
  },
  {
   "cell_type": "markdown",
   "id": "3bfc4150-a8d2-4db3-b361-467fd4e29f21",
   "metadata": {},
   "source": [
    "## Compute the reactions energies for GGU fitting"
   ]
  },
  {
   "cell_type": "code",
   "execution_count": 22,
   "id": "afa0a956-6abe-4c88-83fc-59eee7a79766",
   "metadata": {},
   "outputs": [
    {
     "name": "stdout",
     "output_type": "stream",
     "text": [
      "EXP\n",
      "2 FeO + 0.5 O2 -> Fe2O3                                      energy: -2.92      eV\n",
      "3 FeO + 0.5 O2 -> Fe3O4                                      energy: -3.16      eV\n",
      "0.6667 Fe3O4 + 0.1667 O2 -> Fe2O3                            energy: -0.81      eV\n",
      "THIS WORK\n",
      "2 FeO + 0.5 O2 -> Fe2O3                                      energy: -2.91      eV\n",
      "3 FeO + 0.5 O2 -> Fe3O4                                      energy: -3.11      eV\n",
      "0.6667 Fe3O4 + 0.1667 O2 -> Fe2O3                            energy: -0.84      eV\n",
      "THIS WORK - REFIT\n",
      "2 FeO + 0.5 O2 -> Fe2O3                                      energy: -2.91      eV\n",
      "3 FeO + 0.5 O2 -> Fe3O4                                      energy: -3.11      eV\n",
      "0.6667 Fe3O4 + 0.1667 O2 -> Fe2O3                            energy: -0.84      eV\n",
      "MP\n",
      "2 FeO + 0.5 O2 -> Fe2O3                                      energy: -2.62      eV\n",
      "3 FeO + 0.5 O2 -> Fe3O4                                      energy: -2.53      eV\n",
      "0.6667 Fe3O4 + 0.1667 O2 -> Fe2O3                            energy: -0.94      eV\n",
      "MP-2020\n",
      "2 FeO + 0.5 O2 -> Fe2O3                                      energy: -2.66      eV\n",
      "3 FeO + 0.5 O2 -> Fe3O4                                      energy: -2.57      eV\n",
      "0.6667 Fe3O4 + 0.1667 O2 -> Fe2O3                            energy: -0.95      eV\n"
     ]
    }
   ],
   "source": [
    "print('EXP')\n",
    "print_fe_reactions(entries_exp, collection_exp)\n",
    "print('THIS WORK')\n",
    "print_fe_reactions(entries_comp, collection_comp)\n",
    "print('THIS WORK - REFIT')\n",
    "print_fe_reactions(entries_comp_refit, collection_comp_refit)\n",
    "print('MP')\n",
    "print_fe_reactions(mp_entries_orig, collection_mp_orig)\n",
    "print('MP-2020')\n",
    "print_fe_reactions(mp_entries_2020, collection_mp_2020)"
   ]
  },
  {
   "cell_type": "markdown",
   "id": "0bfb2798-033d-49a0-a3a8-36c0f0e37c6c",
   "metadata": {},
   "source": [
    "## Compute the GGA+U / GGA mixing fitting reactions"
   ]
  },
  {
   "cell_type": "code",
   "execution_count": 23,
   "id": "c61ce3ea-8c8d-4fd4-a872-733419404c2f",
   "metadata": {},
   "outputs": [
    {
     "name": "stdout",
     "output_type": "stream",
     "text": [
      "EXP\n",
      "Fe + 0.5 O2 -> FeO                                           energy: -2.82      eV\n",
      "2 Fe + 1.5 O2 -> Fe2O3                                       energy: -8.55      eV\n",
      "3 Fe + 2 O2 -> Fe3O4                                         energy: -11.61     eV\n",
      "THIS WORK\n",
      "Fe + 0.5 O2 -> FeO                                           energy: -4.02      eV\n",
      "2 Fe + 1.5 O2 -> Fe2O3                                       energy: -10.96     eV\n",
      "3 Fe + 2 O2 -> Fe3O4                                         energy: -15.18     eV\n",
      "THIS WORK - REFIT\n",
      "Fe + 0.5 O2 -> FeO                                           energy: -2.79      eV\n",
      "2 Fe + 1.5 O2 -> Fe2O3                                       energy: -8.48      eV\n",
      "3 Fe + 2 O2 -> Fe3O4                                         energy: -11.47     eV\n",
      "MP\n",
      "Fe + 0.5 O2 -> FeO                                           energy: -3.46      eV\n",
      "2 Fe + 1.5 O2 -> Fe2O3                                       energy: -9.54      eV\n",
      "3 Fe + 2 O2 -> Fe3O4                                         energy: -12.90     eV\n",
      "MP-2020\n",
      "Fe + 0.5 O2 -> FeO                                           energy: -2.94      eV\n",
      "2 Fe + 1.5 O2 -> Fe2O3                                       energy: -8.55      eV\n",
      "3 Fe + 2 O2 -> Fe3O4                                         energy: -11.40     eV\n"
     ]
    }
   ],
   "source": [
    "print('EXP')\n",
    "\n",
    "print_fe_formations(entries_exp, collection_exp)\n",
    "print('THIS WORK')\n",
    "\n",
    "print_fe_formations(entries_comp, collection_comp)\n",
    "print('THIS WORK - REFIT')\n",
    "\n",
    "print_fe_formations(entries_comp_refit, collection_comp_refit)\n",
    "print('MP')\n",
    "\n",
    "print_fe_formations(mp_entries_orig, collection_mp_orig)\n",
    "\n",
    "print('MP-2020')\n",
    "print_fe_formations(mp_entries_2020, collection_mp_2020)"
   ]
  },
  {
   "cell_type": "markdown",
   "id": "10c0cbb3-902d-4e06-b005-c0fa00f12acd",
   "metadata": {},
   "source": [
    "## Assemble a table"
   ]
  },
  {
   "cell_type": "code",
   "execution_count": 24,
   "id": "1202d195-20a2-4054-a6da-78d6c7e77b8d",
   "metadata": {},
   "outputs": [],
   "source": [
    "import pandas as pd"
   ]
  },
  {
   "cell_type": "code",
   "execution_count": 25,
   "id": "d0540e71-ce5c-4913-82d2-df626757c214",
   "metadata": {},
   "outputs": [],
   "source": [
    "def convert_to_entry(collection, kind):\n",
    "    \"\"\"Convert reactions to  records \"\"\"\n",
    "    out = []\n",
    "    for key, value in collection.items():\n",
    "        out.append({\n",
    "            'reaction': value,\n",
    "            'reactants': value.reactants,\n",
    "            'product': value.products,\n",
    "            'energy': value.calculated_reaction_energy,\n",
    "            'kind': kind,\n",
    "            'name': key,\n",
    "        })\n",
    "    return out"
   ]
  },
  {
   "cell_type": "code",
   "execution_count": 26,
   "id": "2467ffef-7049-409f-b5b4-8dcf9ed81540",
   "metadata": {},
   "outputs": [],
   "source": [
    "# Construct the rows of a table\n",
    "entries = []\n",
    "for collection, kind in zip([collection_exp, collection_comp, collection_comp_refit, collection_mp_orig, collection_mp_2020], \n",
    "                            ['Experimental', 'All', 'Oxide only', 'MP-ORIG', 'MP-2020']):\n",
    "    entries.extend(convert_to_entry(collection, kind))"
   ]
  },
  {
   "cell_type": "markdown",
   "id": "d7fe8f28-f64c-4837-b2db-3151d048ec1d",
   "metadata": {},
   "source": [
    "## Plot the summary stable"
   ]
  },
  {
   "cell_type": "code",
   "execution_count": 28,
   "id": "b845268b-557f-43e5-b0f1-5dfff086478a",
   "metadata": {},
   "outputs": [
    {
     "data": {
      "image/png": "[encoded data removed]",
      "text/plain": [
       "<Figure size 432x432 with 1 Axes>"
      ]
     },
     "metadata": {
      "needs_background": "light"
     },
     "output_type": "display_data"
    }
   ],
   "source": [
    "# Construct a summary table\n",
    "summary = pd.DataFrame(entries).set_index('reaction')\n",
    "\n",
    "# Uncomment below to use the save data for plotting\n",
    "#summary = pd.read_csv('summary-table.csv').set_index('reaction')\n",
    "summary.to_csv('summary-table.csv')\n",
    "\n",
    "summary['Error'] = 0\n",
    "\n",
    "for kind in ['All', 'Oxide only', 'MP-ORIG', 'MP-2020']:\n",
    "    subset = summary.loc[summary.kind == kind]\n",
    "    summary.loc[summary.kind == kind, 'Error'] = subset['energy'] - summary[summary.kind == 'Experimental'].energy\n",
    "summary = summary.set_index([summary.index, 'kind'])\n",
    "\n",
    "# Plot the results, but first we need to get rid of the experimetnal line\n",
    "filtered = summary[summary.index.isin(['All', 'Oxide only', 'MP-ORIG', 'MP-2020'], level=1)]\n",
    "fig, ax = plt.subplots(1,1, figsize=(6, 6))\n",
    "filtered.unstack().plot.bar(y='Error', ax=ax)\n",
    "plt.ylabel('Error (eV/f.u.)')\n",
    "plt.xlabel('Reaction')\n",
    "plt.vlines(2.5, -5, 3, linestyles='dashed')\n",
    "plt.vlines(5.5, -5, 3, linestyles='dashed')\n",
    "plt.annotate(r'Sulphide to oxide', (1, 1.5), ha='center')\n",
    "plt.annotate(r'Fitting U for Fe', (4, 1.5), ha='center')\n",
    "plt.annotate(r'GGA+U/GGA mixing', (7,  1.5), ha='center')\n",
    "plt.legend(loc=3)\n",
    "plt.ylim(-4, 2.5)\n",
    "plt.tight_layout()\n",
    "plt.savefig('fitting-summary.svg')\n",
    "plt.savefig('fitting-summary.png')\n",
    "#plt.savefig('../../../Li-Fe-S-O-paper/Figures/fitting-summary.png', dpi=200)\n",
    "#plt.savefig('../../../Li-Fe-S-O-paper/Figures/fitting-summary.svg')\n"
   ]
  },
  {
   "cell_type": "markdown",
   "id": "69b38fef-72db-411e-86a0-c8f56c70efa9",
   "metadata": {},
   "source": [
    "## Some remarks\n",
    "Energies obtained from KB table, although using the JANNF table should give very similar results. \n",
    "\n",
    "About the new 2020 class:\n",
    "1. The data is still not properly fitted (which would mean they have to recompute all Fe compounds); \n",
    "2. When done properly, one does not want to use their GGA/GGA+U mixing scheme to compared cross oxide/sulphides.\n",
    "\n",
    "\n",
    "# NOTE\n",
    "Future version of `pymatgen` will redefine the `MateiralsProjectCompatibility` class and point it to the new 2020 scheme. The old scheme should still be accessible but under a different name."
   ]
  },
  {
   "cell_type": "code",
   "execution_count": null,
   "id": "cef93ec7",
   "metadata": {},
   "outputs": [],
   "source": []
  }
 ],
 "metadata": {
  "kernelspec": {
   "display_name": "Python 3",
   "language": "python",
   "name": "python3"
  },
  "language_info": {
   "codemirror_mode": {
    "name": "ipython",
    "version": 3
   },
   "file_extension": ".py",
   "mimetype": "text/x-python",
   "name": "python",
   "nbconvert_exporter": "python",
   "pygments_lexer": "ipython3",
   "version": "3.8.10"
  }
 },
 "nbformat": 4,
 "nbformat_minor": 5
}
