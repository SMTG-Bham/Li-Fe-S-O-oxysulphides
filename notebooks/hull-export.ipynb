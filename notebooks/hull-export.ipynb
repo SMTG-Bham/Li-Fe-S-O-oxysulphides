{
 "cells": [
  {
   "cell_type": "markdown",
   "metadata": {},
   "source": [
    "# Construct the convex hull diagram\n",
    "Include the search results from the known phases and the search phases"
   ]
  },
  {
   "cell_type": "code",
   "execution_count": 1,
   "metadata": {},
   "outputs": [],
   "source": [
    "%aiida\n",
    "from aiida.orm import StructureData, SinglefileData\n",
    "from ase.io import read\n",
    "from aiida.engine import calcfunction, submit\n",
    "from pathlib import Path\n",
    "from tqdm.auto import tqdm\n",
    "from tqdm.auto import tqdm\n",
    "\n",
    "from toolchest.hull import get_relax_record_single, get_relax_records, print_spg_with_limit, get_entry\n",
    "import pandas as pd\n",
    "\n",
    "from aiida_vasp.parsers.file_parsers.potcar import MultiPotcarIo\n",
    "from pymatgen.entries.computed_entries import ComputedEntry\n"
   ]
  },
  {
   "cell_type": "code",
   "execution_count": 2,
   "metadata": {},
   "outputs": [],
   "source": [
    "sgroup_run2 = Group.objects.get(label='li-fe-o-s/run2-airss-refine-structures')\n",
    "sgroup_run1 = Group.objects.get(label='li-fe-o-s/run1-airss-refine-structures')\n",
    "extra_group = Group.objects.get(label='li-fe-o-s/extra-search-structures')\n",
    "kgroup = Group.objects.get(label='li-fe-o-s/mp-structures')"
   ]
  },
  {
   "cell_type": "markdown",
   "metadata": {},
   "source": [
    "# Construct Structure centric database"
   ]
  },
  {
   "cell_type": "raw",
   "metadata": {},
   "source": [
    "groups = [sgroup_run1, sgroup_run2, kgroup, extra_group]"
   ]
  },
  {
   "cell_type": "raw",
   "metadata": {},
   "source": [
    "relax_records = get_relax_records(groups, 520)\n",
    "enum_records = get_enumerate_records(groups, 520)\n",
    "df_all = pd.concat([relax_records, enum_records])\n",
    "\n",
    "# Add extra entries \n",
    "\n",
    "df_all = df_all[df_all.functional == 'pbesol'].copy()\n",
    "\n",
    "df_all['entry'] = get_entry(df_all)\n",
    "df_all['n_fe'] = df_all['pmg_struct'].apply(lambda x: x.composition['Fe'])\n",
    "df_all['chemsys'] = df_all['pmg_struct'].apply(lambda x: x.composition.chemical_system)\n",
    "df_all['natoms'] = df_all['structure'].apply(lambda x: len(x.sites))\n",
    "df_all['e_pa'] = df_all['energy'] / df_all['natoms']\n",
    "\n",
    "pycols = []\n",
    "for col in df_all.columns:\n",
    "    if not isinstance(df_all.iloc[0][col], Node):\n",
    "        pycols.append(col)\n",
    "\n",
    "df_all[pycols].to_csv(\"li-fe-o-s-hull-all-data.csv\")"
   ]
  },
  {
   "cell_type": "markdown",
   "metadata": {},
   "source": [
    "## Construct Calculation centric group\n",
    "Add the collected calculation to a dedicated group"
   ]
  },
  {
   "cell_type": "raw",
   "metadata": {},
   "source": [
    "def select_u4(row):\n",
    "    \"\"\"Select entries that are consistent with having Fe with U-=4.0\"\"\"\n",
    "    ufe = row.umap.get('Fe', 0.0)\n",
    "    comp = row.entry.composition\n",
    "    if row.functional != 'pbe':\n",
    "        return False\n",
    "    if 'Fe' in comp and ufe == 4.0:\n",
    "        return True\n",
    "    if 'Fe' not in comp:\n",
    "        return True\n",
    "    return False"
   ]
  },
  {
   "cell_type": "raw",
   "metadata": {},
   "source": [
    "selected = []\n",
    "for _, row in df_all.iterrows():\n",
    "    if select_u4(row):\n",
    "        selected.append(row)\n",
    "pbe_u4 = pd.DataFrame(selected)"
   ]
  },
  {
   "cell_type": "markdown",
   "metadata": {},
   "source": [
    "Create the group needed for the hull construction calculations"
   ]
  },
  {
   "cell_type": "raw",
   "metadata": {},
   "source": [
    "gcalc = Group.objects.get_or_create(label='li-fe-o-s/pbe-fe-u4-calcs')[0]"
   ]
  },
  {
   "cell_type": "raw",
   "metadata": {},
   "source": [
    "for _, row in pbe_u4.iterrows():\n",
    "    gcalc.add_nodes(load_node(row.relax_uuid))"
   ]
  },
  {
   "cell_type": "markdown",
   "metadata": {},
   "source": [
    "## Get the data from the Calculation Centric Group"
   ]
  },
  {
   "cell_type": "code",
   "execution_count": 3,
   "metadata": {},
   "outputs": [
    {
     "name": "stdout",
     "output_type": "stream",
     "text": [
      "Entries: 500\n"
     ]
    },
    {
     "data": {
      "application/vnd.jupyter.widget-view+json": {
       "model_id": "95f8b9b2f1504d0c9a7b9b43a218ddc0",
       "version_major": 2,
       "version_minor": 0
      },
      "text/plain": [
       "  0%|          | 0/500 [00:00<?, ?it/s]"
      ]
     },
     "metadata": {},
     "output_type": "display_data"
    }
   ],
   "source": [
    "from toolchest.hull import get_relax_records\n",
    "\n",
    "gcalc = Group.objects.get_or_create(label='li-fe-o-s/pbe-fe-u4-calcs')[0]\n",
    "\n",
    "# Construct the dataframe\n",
    "\n",
    "df = get_relax_records([gcalc], 520, group_with_structures=False)\n",
    "\n",
    "df['entry'] = get_entry(df)\n",
    "df['n_fe'] = df['pmg_struct'].apply(lambda x: x.composition['Fe'])\n",
    "df['chemsys'] = df['pmg_struct'].apply(lambda x: x.composition.chemical_system)\n",
    "df['natoms'] = df['structure'].apply(lambda x: len(x.sites))\n",
    "df['e_pa'] = df['energy'] / df['natoms']"
   ]
  },
  {
   "cell_type": "markdown",
   "metadata": {},
   "source": [
    "### Extra results from pushing"
   ]
  },
  {
   "cell_type": "code",
   "execution_count": 4,
   "metadata": {},
   "outputs": [
    {
     "name": "stdout",
     "output_type": "stream",
     "text": [
      "Entries: 9\n"
     ]
    },
    {
     "data": {
      "application/vnd.jupyter.widget-view+json": {
       "model_id": "f78fd6c156f24c48ae6b621125b3e5cd",
       "version_major": 2,
       "version_minor": 0
      },
      "text/plain": [
       "  0%|          | 0/9 [00:00<?, ?it/s]"
      ]
     },
     "metadata": {},
     "output_type": "display_data"
    },
    {
     "data": {
      "text/plain": [
       "Series([], Name: e_pa, dtype: float64)"
      ]
     },
     "execution_count": 4,
     "metadata": {},
     "output_type": "execute_result"
    }
   ],
   "source": [
    "extra_df = get_relax_records([extra_group], 520)\n",
    "extra_df['natoms'] = extra_df['structure'].apply(lambda x: len(x.sites))\n",
    "extra_df['e_pa'] = extra_df['energy'] / extra_df['natoms']\n",
    "extra_df[extra_df.formula == 'Li2Fe4S3O2']['e_pa']"
   ]
  },
  {
   "cell_type": "markdown",
   "metadata": {},
   "source": [
    "Write files"
   ]
  },
  {
   "cell_type": "code",
   "execution_count": 5,
   "metadata": {},
   "outputs": [],
   "source": [
    "df.to_csv('hull_df.csv')\n",
    "extra_df.to_csv('extra_df.csv')"
   ]
  },
  {
   "cell_type": "code",
   "execution_count": 6,
   "metadata": {},
   "outputs": [],
   "source": [
    "#Exclude the enumerated structure\n",
    "\n",
    "df = df[~df.label.str.contains('Enum')]"
   ]
  },
  {
   "cell_type": "markdown",
   "metadata": {},
   "source": [
    "## Constructing the convex hull"
   ]
  },
  {
   "cell_type": "code",
   "execution_count": 7,
   "metadata": {},
   "outputs": [],
   "source": [
    "from collections import Counter\n",
    "from pymatgen.analysis.phase_diagram import PDEntry, PhaseDiagram\n",
    "from pymatgen import Composition\n",
    "from pymatgen.analysis.phase_diagram import PDPlotter"
   ]
  },
  {
   "cell_type": "code",
   "execution_count": 8,
   "metadata": {},
   "outputs": [],
   "source": [
    "def df2pd(df, corr=None):\n",
    "    \"\"\"\n",
    "    Generate phase diagram from a DataFrame\n",
    "    \"\"\"\n",
    "    pd_entries = []\n",
    "    for idx, row in df.iterrows():\n",
    "        if corr:\n",
    "            correction  = corr.get_correction(row.entry)\n",
    "            row.entry.correction = correction\n",
    "        else:\n",
    "            row.entry.correction = 0.0\n",
    "        pd_entries.append(row.entry)\n",
    "\n",
    "    # Apply gas correction\n",
    "    #gas_correct = 0.6 # Accounts the O-O overbinding energy\n",
    "    #for entry in pd_entries:\n",
    "    #    if entry.composition.chemical_system == 'O':\n",
    "    #        entry.correction = entry.composition['O'] * gas_correct\n",
    "\n",
    "    #fe_correct = -0.0 # Correction for using the Wrong Fe...     \n",
    "    #for entry in pd_entries:\n",
    "    #    #entry = deepcopy(entry)\n",
    "    #    if entry.composition.chemical_system == 'Fe':\n",
    "    #        entry._energy += entry.composition['Fe'] * fe_correct\n",
    "    return PhaseDiagram(pd_entries)"
   ]
  },
  {
   "cell_type": "code",
   "execution_count": 9,
   "metadata": {},
   "outputs": [
    {
     "name": "stderr",
     "output_type": "stream",
     "text": [
      "/home/bonan/miniconda3/envs/aiida/lib/python3.8/site-packages/pymatgen/analysis/phase_diagram.py:2140: MatplotlibDeprecationWarning: Axes3D(fig) adding itself to the figure is deprecated since 3.4. Pass the keyword argument auto_add_to_figure=False and use fig.add_axes(ax) to suppress this warning. The default value of auto_add_to_figure will change to False in mpl3.5 and True values will no longer work in 3.6.  This is consistent with other Axes classes.\n",
      "  ax = p3.Axes3D(fig)\n"
     ]
    },
    {
     "data": {
      "image/png": "[encoded data removed]",
      "text/plain": [
       "<Figure size 432x288 with 1 Axes>"
      ]
     },
     "metadata": {
      "needs_background": "light"
     },
     "output_type": "display_data"
    }
   ],
   "source": [
    "diagram_known = df2pd(df[~(df.label.str.contains('res') | (df.formula == 'Li2FeSO') | (df.label.str.contains('Enum')))], corr=None)\n",
    "\n",
    "#for entry in diagram_known.all_entries:\n",
    "#    dist = diagram_known.get_decomp_and_e_above_hull(entry)\n",
    "#    print(entry.composition.reduced_formula, dist[1])\n",
    "\n",
    "plotter = PDPlotter(diagram_known, backend='matplotlib', show_unstable=0.05)\n",
    "plotter.get_plot()\n",
    "plt.savefig(\"quanternary_known.png\", dpi=300)\n",
    "plt.show()"
   ]
  },
  {
   "cell_type": "code",
   "execution_count": 10,
   "metadata": {},
   "outputs": [
    {
     "name": "stderr",
     "output_type": "stream",
     "text": [
      "/home/bonan/miniconda3/envs/aiida/lib/python3.8/site-packages/pymatgen/analysis/phase_diagram.py:2140: MatplotlibDeprecationWarning: Axes3D(fig) adding itself to the figure is deprecated since 3.4. Pass the keyword argument auto_add_to_figure=False and use fig.add_axes(ax) to suppress this warning. The default value of auto_add_to_figure will change to False in mpl3.5 and True values will no longer work in 3.6.  This is consistent with other Axes classes.\n",
      "  ax = p3.Axes3D(fig)\n"
     ]
    },
    {
     "data": {
      "image/png": "[encoded data removed]",
      "text/plain": [
       "<Figure size 432x288 with 1 Axes>"
      ]
     },
     "metadata": {
      "needs_background": "light"
     },
     "output_type": "display_data"
    }
   ],
   "source": [
    "diagram_search = df2pd(df)\n",
    "\n",
    "plotter = PDPlotter(diagram_search, backend='matplotlib', show_unstable=0.05)\n",
    "plotter.get_plot(plt=plt)\n",
    "plt.savefig(\"quanternary_all.png\", dpi=300)"
   ]
  },
  {
   "cell_type": "markdown",
   "metadata": {},
   "source": [
    "### For finite temperature"
   ]
  },
  {
   "cell_type": "code",
   "execution_count": 11,
   "metadata": {},
   "outputs": [],
   "source": [
    "from toolchest.predictg import make_g_diagram"
   ]
  },
  {
   "cell_type": "code",
   "execution_count": 12,
   "metadata": {},
   "outputs": [],
   "source": [
    "diagrams_g = {\n",
    "    'search': make_g_diagram(diagram_search, 800),\n",
    "    'known': make_g_diagram(diagram_known, 800)\n",
    "}\n",
    "diagrams_h = {\n",
    "    'search': diagram_search,\n",
    "    'knwon': diagram_known\n",
    "}"
   ]
  },
  {
   "cell_type": "markdown",
   "metadata": {},
   "source": [
    "Add columns for storing additional data such as the e_above_hull"
   ]
  },
  {
   "cell_type": "code",
   "execution_count": 13,
   "metadata": {},
   "outputs": [],
   "source": [
    "records = []\n",
    "index = []\n",
    "for idx, row in df.iterrows():\n",
    "    entry = row.entry\n",
    "    decomp, dist_to_hull = diagram_search.get_decomp_and_e_above_hull(entry)\n",
    "    decomp_knwon, dist_to_hull_known = diagram_known.get_decomp_and_e_above_hull(entry, allow_negative=True)\n",
    "    records.append({\n",
    "        'e_above_hull': dist_to_hull,\n",
    "        'decomp': \"+\".join([c.composition.reduced_formula for c in decomp]),\n",
    "        'decomp_known': \"+\".join([c.composition.reduced_formula for c in decomp_knwon]),\n",
    "        'e_above_hull_known': dist_to_hull_known,\n",
    "    })\n",
    "    index.append(idx)\n",
    "pd_entries = pd.DataFrame(records, index=index)"
   ]
  },
  {
   "cell_type": "markdown",
   "metadata": {},
   "source": [
    "Add columns for additiona data at finite temperature"
   ]
  },
  {
   "cell_type": "raw",
   "metadata": {},
   "source": [
    "records = []\n",
    "index = []\n",
    "processed_entries = {entry.parameters['dataframe_idx']: entry for entry in diagrams_g['search'].all_entries}\n",
    "for idx, row in df.iterrows():\n",
    "    entry = processed_entries[idx]\n",
    "    decomp, dist_to_hull = diagrams_g['search'].get_decomp_and_e_above_hull(entry)\n",
    "    decomp_knwon, dist_to_hull_known = diagrams_g['known'].get_decomp_and_e_above_hull(entry, allow_negative=True)\n",
    "    records.append({\n",
    "        'e_above_hull': dist_to_hull,\n",
    "        'decomp': \"+\".join([c.composition.reduced_formula for c in decomp]),\n",
    "        'decomp_known': \"+\".join([c.composition.reduced_formula for c in decomp_knwon]),\n",
    "        'e_above_hull_known': dist_to_hull_known,\n",
    "    })\n",
    "    index.append(idx)\n",
    "pd_entries = pd.DataFrame(records, index=index)"
   ]
  },
  {
   "cell_type": "code",
   "execution_count": 14,
   "metadata": {},
   "outputs": [],
   "source": [
    "# Assign data to the DataFrame\n",
    "df_with_pd = pd.concat([df, pd_entries], axis=1).sort_values('e_pa')\n",
    "\n",
    "# Remove duplicates - some material has been computed multiple times - we simply take the first entry (lowest energy)\n",
    "mask = df_with_pd.duplicated('structure_uuid', keep='first')\n",
    "unique = df_with_pd[~mask]"
   ]
  },
  {
   "cell_type": "markdown",
   "metadata": {},
   "source": [
    "Histogram of the E above hull for all compositions included in the search"
   ]
  },
  {
   "cell_type": "code",
   "execution_count": 15,
   "metadata": {},
   "outputs": [
    {
     "data": {
      "image/png": "[encoded data removed]",
      "text/plain": [
       "<Figure size 432x288 with 2 Axes>"
      ]
     },
     "metadata": {
      "needs_background": "light"
     },
     "output_type": "display_data"
    }
   ],
   "source": [
    "u=4.0\n",
    "\n",
    "fig, axs = plt.subplots(2, 1, sharex=True, sharey=True)\n",
    "# Get the entry closest to the hull for each composition\n",
    "tmp = unique.groupby('formula')['e_above_hull'].idxmin()\n",
    "lowest = unique.loc[tmp]\n",
    "\n",
    "search_lowest = lowest[lowest.label.str.contains(\"res\") | lowest.label.str.contains(\"Enum\")]\n",
    "\n",
    "(search_lowest['e_above_hull'] * 1000).hist(bins=50, range=(-50, 200), ax=axs[0], label='With quaternary', color='xkcd:turquoise')\n",
    "(search_lowest['e_above_hull_known']* 1000).hist(bins=50, range=(-50, 200), ax=axs[1], label='Without quaternary', color='xkcd:orange')\n",
    "\n",
    "axs[1].set_xlabel(r\"$E_{hull}$ (meV)\")\n",
    "axs[1].set_ylabel(\"Counts\")\n",
    "axs[0].set_title(\"Distance to hull with/without quaternary phases\")\n",
    "axs[0].legend()\n",
    "axs[1].legend()\n",
    "fig.tight_layout()\n",
    "\n",
    "plt.savefig(f\"e_above_hull_search-u{u}-all.png\", dpi=300)"
   ]
  },
  {
   "cell_type": "code",
   "execution_count": 16,
   "metadata": {},
   "outputs": [
    {
     "data": {
      "image/png": "[encoded data removed]",
      "text/plain": [
       "<Figure size 432x288 with 1 Axes>"
      ]
     },
     "metadata": {
      "needs_background": "light"
     },
     "output_type": "display_data"
    }
   ],
   "source": [
    "plt.scatter(search_lowest['e_above_hull'] * 1e3, search_lowest['e_above_hull_known'] * 1e3, s=8)\n",
    "plt.plot([0, 200], [0, 200], '--')\n",
    "plt.xlabel(r'$E_{hull}$ (meV)')\n",
    "plt.ylabel(r'$E_{hull}$ - w/o quaternary (meV)')\n",
    "plt.gca().set_aspect('equal')\n",
    "plt.savefig('e_hull_with_without_quaternary.png', dpi=300)"
   ]
  },
  {
   "cell_type": "markdown",
   "metadata": {},
   "source": [
    "## Compute the reaction energies"
   ]
  },
  {
   "cell_type": "code",
   "execution_count": 17,
   "metadata": {},
   "outputs": [
    {
     "name": "stdout",
     "output_type": "stream",
     "text": [
      "Li2O + FeS -> Li2FeSO energy: -0.51 eV\n"
     ]
    }
   ],
   "source": [
    "from pymatgen.analysis.reaction_calculator import ComputedReaction\n",
    "li2feso = lowest[lowest.formula == 'Li2FeSO'].iloc[0].entry\n",
    "li2o = lowest[lowest.formula == 'Li2O'].iloc[0].entry\n",
    "fes = lowest[lowest.formula == 'FeS'].iloc[0].entry\n",
    "reaction = ComputedReaction([li2o, fes], [li2feso])\n",
    "\n",
    "print(f'{reaction} energy: {reaction.calculated_reaction_energy:.2f} eV')"
   ]
  },
  {
   "cell_type": "code",
   "execution_count": 18,
   "metadata": {},
   "outputs": [
    {
     "name": "stdout",
     "output_type": "stream",
     "text": [
      "Li2S + FeO -> Li2FeSO energy: -0.13 eV\n"
     ]
    }
   ],
   "source": [
    "from pymatgen.analysis.reaction_calculator import ComputedReaction\n",
    "li2feso = lowest[lowest.formula == 'Li2FeSO'].iloc[0].entry\n",
    "li2s = lowest[lowest.formula == 'Li2S'].iloc[0].entry\n",
    "feo = lowest[lowest.formula == 'FeO'].iloc[0].entry\n",
    "reaction = ComputedReaction([li2s, feo], [li2feso])\n",
    "\n",
    "print(f'{reaction} energy: {reaction.calculated_reaction_energy:.2f} eV')"
   ]
  },
  {
   "cell_type": "code",
   "execution_count": 19,
   "metadata": {},
   "outputs": [
    {
     "data": {
      "image/png": "[encoded data removed]",
      "text/plain": [
       "<Figure size 432x288 with 1 Axes>"
      ]
     },
     "metadata": {
      "needs_background": "light"
     },
     "output_type": "display_data"
    }
   ],
   "source": [
    "(search_lowest['e_above_hull_known']* 1000).hist(bins=50, range=(-50, 200))\n",
    "\n",
    "plt.xlabel(r\"$E_{hull}$ (meV)\")\n",
    "plt.ylabel(\"Counts\")\n",
    "plt.tight_layout()\n",
    "plt.title(\"Distance to hull without quaternary phases\")\n",
    "plt.savefig(f\"e_above_existing_hull_search-u{u}-all.png\", dpi=300)"
   ]
  },
  {
   "cell_type": "code",
   "execution_count": 20,
   "metadata": {},
   "outputs": [
    {
     "data": {
      "text/html": [
       "<div>\n",
       "<style scoped>\n",
       "    .dataframe tbody tr th:only-of-type {\n",
       "        vertical-align: middle;\n",
       "    }\n",
       "\n",
       "    .dataframe tbody tr th {\n",
       "        vertical-align: top;\n",
       "    }\n",
       "\n",
       "    .dataframe thead th {\n",
       "        text-align: right;\n",
       "    }\n",
       "</style>\n",
       "<table border=\"1\" class=\"dataframe\">\n",
       "  <thead>\n",
       "    <tr style=\"text-align: right;\">\n",
       "      <th></th>\n",
       "      <th>label</th>\n",
       "      <th>formula</th>\n",
       "      <th>e_above_hull</th>\n",
       "      <th>e_pa</th>\n",
       "      <th>decomp</th>\n",
       "      <th>e_above_hull_known</th>\n",
       "      <th>decomp_known</th>\n",
       "      <th>relax_uuid</th>\n",
       "    </tr>\n",
       "  </thead>\n",
       "  <tbody>\n",
       "    <tr>\n",
       "      <th>54</th>\n",
       "      <td>LFSO-Li2FeSO-201025-015107-3451c2.res</td>\n",
       "      <td>Li2FeSO</td>\n",
       "      <td>0.000000</td>\n",
       "      <td>-5.135918</td>\n",
       "      <td>Li2FeSO</td>\n",
       "      <td>-0.026724</td>\n",
       "      <td>FeO+Li2S</td>\n",
       "      <td>c0b4f19c-d4ba-4b2a-a57d-7f2e5c725da4</td>\n",
       "    </tr>\n",
       "    <tr>\n",
       "      <th>50</th>\n",
       "      <td>LFSO-Li2Fe4S3O2-201025-153957-9403b6.res</td>\n",
       "      <td>Li2Fe4S3O2</td>\n",
       "      <td>0.000000</td>\n",
       "      <td>-5.557765</td>\n",
       "      <td>Li2Fe4S3O2</td>\n",
       "      <td>-0.035033</td>\n",
       "      <td>FeO+FeS+Li2S</td>\n",
       "      <td>0eb044ae-b073-4ee0-95ef-f2cbbe47adda</td>\n",
       "    </tr>\n",
       "    <tr>\n",
       "      <th>51</th>\n",
       "      <td>LFSO-Li2Fe3S2O2-201022-171823-c39cef.res</td>\n",
       "      <td>Li2Fe3(SO)2</td>\n",
       "      <td>0.003356</td>\n",
       "      <td>-5.572475</td>\n",
       "      <td>Li2FeSO+FeO+Li2Fe4S3O2</td>\n",
       "      <td>-0.025476</td>\n",
       "      <td>FeO+FeS+Li2S</td>\n",
       "      <td>1cfbf6af-55ce-42e1-9307-f5ed50e9df86</td>\n",
       "    </tr>\n",
       "    <tr>\n",
       "      <th>53</th>\n",
       "      <td>LFSO-Li2Fe2S2O-201022-042623-e6d3a9.res</td>\n",
       "      <td>Li2Fe2S2O</td>\n",
       "      <td>0.003385</td>\n",
       "      <td>-5.220288</td>\n",
       "      <td>Li2Fe4S3O2+Li2S</td>\n",
       "      <td>-0.024141</td>\n",
       "      <td>FeO+FeS+Li2S</td>\n",
       "      <td>2e52c5fc-aff7-4615-9023-2872464d142b</td>\n",
       "    </tr>\n",
       "    <tr>\n",
       "      <th>475</th>\n",
       "      <td>LFSO-Li4Fe3S3O2-200926-154112-68ece2.res</td>\n",
       "      <td>Li4Fe3S3O2</td>\n",
       "      <td>0.018077</td>\n",
       "      <td>-5.169032</td>\n",
       "      <td>Li2FeSO+Li2Fe4S3O2+Li2S</td>\n",
       "      <td>-0.009115</td>\n",
       "      <td>FeO+FeS+Li2S</td>\n",
       "      <td>f2da497d-e42d-4fcb-805b-c7c311738cfb</td>\n",
       "    </tr>\n",
       "    <tr>\n",
       "      <th>398</th>\n",
       "      <td>LFSO-Li2Fe4S4O-201023-052738-cce6fe.res</td>\n",
       "      <td>Li2Fe4S4O</td>\n",
       "      <td>0.023032</td>\n",
       "      <td>-5.269680</td>\n",
       "      <td>Li2Fe4S3O2+FeS+Li2S</td>\n",
       "      <td>0.005516</td>\n",
       "      <td>FeO+FeS+Li2S</td>\n",
       "      <td>c28c3db0-ffa5-40e7-afe6-cb4b4aaff4b6</td>\n",
       "    </tr>\n",
       "    <tr>\n",
       "      <th>380</th>\n",
       "      <td>LFSO-Li4Fe3S4O-200925-201817-7d9406.res</td>\n",
       "      <td>Li4Fe3S4O</td>\n",
       "      <td>0.030539</td>\n",
       "      <td>-4.918526</td>\n",
       "      <td>Li2Fe4S3O2+FeS+Li2S</td>\n",
       "      <td>0.014482</td>\n",
       "      <td>FeO+FeS+Li2S</td>\n",
       "      <td>b3d38d45-96e2-4968-b423-738c50f428c5</td>\n",
       "    </tr>\n",
       "    <tr>\n",
       "      <th>476</th>\n",
       "      <td>LFSO-Li4Fe2S3O-200911-023604-a5ffb0.res</td>\n",
       "      <td>Li4Fe2S3O</td>\n",
       "      <td>0.045796</td>\n",
       "      <td>-4.810376</td>\n",
       "      <td>Li2Fe4S3O2+Li2S</td>\n",
       "      <td>0.026528</td>\n",
       "      <td>FeO+FeS+Li2S</td>\n",
       "      <td>f39acdda-fc4f-4d40-93b6-48c8eb06768a</td>\n",
       "    </tr>\n",
       "    <tr>\n",
       "      <th>137</th>\n",
       "      <td>LFSO-Li6FeSO3-200909-224307-24378f.res</td>\n",
       "      <td>Li6FeSO3</td>\n",
       "      <td>0.046300</td>\n",
       "      <td>-4.915209</td>\n",
       "      <td>Li2O+Li2FeO2+Li2S</td>\n",
       "      <td>0.046300</td>\n",
       "      <td>Li2FeO2+Li2O+Li2S</td>\n",
       "      <td>32b69034-22a9-4e73-a2f8-73b481029faf</td>\n",
       "    </tr>\n",
       "    <tr>\n",
       "      <th>421</th>\n",
       "      <td>LFSO-Li5FeS2O2-201026-013822-cc74e4.res</td>\n",
       "      <td>Li5Fe(SO)2</td>\n",
       "      <td>0.048638</td>\n",
       "      <td>-4.822020</td>\n",
       "      <td>LiFeO2+Li2S</td>\n",
       "      <td>0.048638</td>\n",
       "      <td>LiFeO2+Li2S</td>\n",
       "      <td>d0cd6261-0ac1-4afb-addb-69e6c0d51be9</td>\n",
       "    </tr>\n",
       "  </tbody>\n",
       "</table>\n",
       "</div>"
      ],
      "text/plain": [
       "                                        label      formula  e_above_hull  \\\n",
       "54      LFSO-Li2FeSO-201025-015107-3451c2.res      Li2FeSO      0.000000   \n",
       "50   LFSO-Li2Fe4S3O2-201025-153957-9403b6.res   Li2Fe4S3O2      0.000000   \n",
       "51   LFSO-Li2Fe3S2O2-201022-171823-c39cef.res  Li2Fe3(SO)2      0.003356   \n",
       "53    LFSO-Li2Fe2S2O-201022-042623-e6d3a9.res    Li2Fe2S2O      0.003385   \n",
       "475  LFSO-Li4Fe3S3O2-200926-154112-68ece2.res   Li4Fe3S3O2      0.018077   \n",
       "398   LFSO-Li2Fe4S4O-201023-052738-cce6fe.res    Li2Fe4S4O      0.023032   \n",
       "380   LFSO-Li4Fe3S4O-200925-201817-7d9406.res    Li4Fe3S4O      0.030539   \n",
       "476   LFSO-Li4Fe2S3O-200911-023604-a5ffb0.res    Li4Fe2S3O      0.045796   \n",
       "137    LFSO-Li6FeSO3-200909-224307-24378f.res     Li6FeSO3      0.046300   \n",
       "421   LFSO-Li5FeS2O2-201026-013822-cc74e4.res   Li5Fe(SO)2      0.048638   \n",
       "\n",
       "         e_pa                   decomp  e_above_hull_known       decomp_known  \\\n",
       "54  -5.135918                  Li2FeSO           -0.026724           FeO+Li2S   \n",
       "50  -5.557765               Li2Fe4S3O2           -0.035033       FeO+FeS+Li2S   \n",
       "51  -5.572475   Li2FeSO+FeO+Li2Fe4S3O2           -0.025476       FeO+FeS+Li2S   \n",
       "53  -5.220288          Li2Fe4S3O2+Li2S           -0.024141       FeO+FeS+Li2S   \n",
       "475 -5.169032  Li2FeSO+Li2Fe4S3O2+Li2S           -0.009115       FeO+FeS+Li2S   \n",
       "398 -5.269680      Li2Fe4S3O2+FeS+Li2S            0.005516       FeO+FeS+Li2S   \n",
       "380 -4.918526      Li2Fe4S3O2+FeS+Li2S            0.014482       FeO+FeS+Li2S   \n",
       "476 -4.810376          Li2Fe4S3O2+Li2S            0.026528       FeO+FeS+Li2S   \n",
       "137 -4.915209        Li2O+Li2FeO2+Li2S            0.046300  Li2FeO2+Li2O+Li2S   \n",
       "421 -4.822020              LiFeO2+Li2S            0.048638        LiFeO2+Li2S   \n",
       "\n",
       "                               relax_uuid  \n",
       "54   c0b4f19c-d4ba-4b2a-a57d-7f2e5c725da4  \n",
       "50   0eb044ae-b073-4ee0-95ef-f2cbbe47adda  \n",
       "51   1cfbf6af-55ce-42e1-9307-f5ed50e9df86  \n",
       "53   2e52c5fc-aff7-4615-9023-2872464d142b  \n",
       "475  f2da497d-e42d-4fcb-805b-c7c311738cfb  \n",
       "398  c28c3db0-ffa5-40e7-afe6-cb4b4aaff4b6  \n",
       "380  b3d38d45-96e2-4968-b423-738c50f428c5  \n",
       "476  f39acdda-fc4f-4d40-93b6-48c8eb06768a  \n",
       "137  32b69034-22a9-4e73-a2f8-73b481029faf  \n",
       "421  d0cd6261-0ac1-4afb-addb-69e6c0d51be9  "
      ]
     },
     "execution_count": 20,
     "metadata": {},
     "output_type": "execute_result"
    }
   ],
   "source": [
    "to_show = search_lowest[search_lowest.e_above_hull < 0.150].sort_values('e_above_hull')\n",
    "\n",
    "data = to_show[['label', 'formula', 'e_above_hull', 'e_pa', 'decomp', 'e_above_hull_known', 'decomp_known', 'relax_uuid']].head(10)\n",
    "data"
   ]
  },
  {
   "cell_type": "raw",
   "metadata": {},
   "source": [
    "data.to_csv('top-phases.csv')"
   ]
  },
  {
   "cell_type": "markdown",
   "metadata": {},
   "source": [
    "## Calibration for formation energy"
   ]
  },
  {
   "cell_type": "code",
   "execution_count": 21,
   "metadata": {},
   "outputs": [
    {
     "name": "stdout",
     "output_type": "stream",
     "text": [
      "Li2O + FeS -> Li2FeSO                                        energy: -0.51      eV\n",
      "0.25 Li2SO4 + Fe + 0.75 Li2S -> Li2FeSO                      energy: -1.12      eV\n",
      "S + Fe -> FeS                                                energy: -1.44      eV\n",
      "0.5 FeS2 + 1.5 FeO -> FeS + 0.5 Fe2O3                        energy: -0.46      eV\n",
      "0.5 FeS2 + 2 FeO -> FeS + 0.5 Fe3O4                          energy: -0.56      eV\n",
      "2 S + Fe -> FeS2                                             energy: -0.86      eV\n",
      "FeS + Li2O -> FeO + Li2S                                     energy: -0.37      eV\n"
     ]
    }
   ],
   "source": [
    "from pymatgen.analysis.reaction_calculator import ComputedReaction\n",
    "\n",
    "entries_comp = []\n",
    "\n",
    "li2feso = unique[unique.formula == 'Li2FeSO'].sort_values('e_pa').iloc[0].entry\n",
    "li2O = unique[unique.formula == 'Li2O'].sort_values('e_pa').iloc[0].entry\n",
    "fes = unique[unique.formula == 'FeS'].sort_values('e_pa').iloc[0].entry\n",
    "react = ComputedReaction([li2O, fes], [li2feso])\n",
    "print(f'{str(react):<60} energy: {react.calculated_reaction_energy:<10.2f} eV') \n",
    "\n",
    "li2so4 = unique[unique.formula == 'Li2SO4'].sort_values('e_pa').iloc[0].entry\n",
    "\n",
    "fes2 = unique[unique.formula == 'FeS2'].sort_values('e_pa').iloc[0].entry\n",
    "\n",
    "fe = unique[unique.formula == 'Fe'].sort_values('e_pa').iloc[0].entry\n",
    "li2s = unique[unique.formula == 'Li2S'].sort_values('e_pa').iloc[0].entry\n",
    "s = unique[unique.formula == 'S'].sort_values('e_pa').iloc[0].entry\n",
    "li2o = unique[unique.formula == 'Li2O'].sort_values('e_pa').iloc[0].entry\n",
    "\n",
    "feo = unique[unique.formula == 'FeO'].sort_values('e_pa').iloc[0].entry\n",
    "fe2o3 = unique[unique.formula == 'Fe2O3'].sort_values('e_pa').iloc[0].entry\n",
    "fe3o4 = unique[unique.formula == 'Fe3O4'].sort_values('e_pa').iloc[0].entry\n",
    "\n",
    "entries_comp.append([li2O, fes, li2feso, fes2, fe, li2s, s, li2o, feo, fe2o3, fe3o4])\n",
    "\n",
    "react = ComputedReaction([li2so4, fes, fe, li2s], [li2feso])\n",
    "print(f'{str(react):<60} energy: {react.calculated_reaction_energy:<10.2f} eV') \n",
    "react = ComputedReaction([s, fe], [fes])\n",
    "print(f'{str(react):<60} energy: {react.calculated_reaction_energy:<10.2f} eV') \n",
    "react = ComputedReaction([fes2, feo], [fes, fe2o3])\n",
    "print(f'{str(react):<60} energy: {react.calculated_reaction_energy:<10.2f} eV') \n",
    "react = ComputedReaction([fes2, feo], [fes, fe3o4])\n",
    "print(f'{str(react):<60} energy: {react.calculated_reaction_energy:<10.2f} eV') \n",
    "react = ComputedReaction([s, fe], [fes2])\n",
    "print(f'{str(react):<60} energy: {react.calculated_reaction_energy:<10.2f} eV') \n",
    "react = ComputedReaction([fes, li2o], [feo, li2s])\n",
    "print(f'{str(react):<60} energy: {react.calculated_reaction_energy:<10.2f} eV') \n"
   ]
  },
  {
   "cell_type": "markdown",
   "metadata": {},
   "source": [
    "#### Experimental\n",
    "\n",
    "\n",
    "| Compound | kcal / mol | eV\n",
    "| ---------- | ---- | ---- |\n",
    "|FeS    |-24\t|-1.040712\n",
    "|FeS2\t|-41\t|-1.777883\n",
    "|Fe3O4\t|-266.9\t|-11.5735847\n",
    "|Fe2O3\t|-196.3\t|-8.5121569\n",
    "|FeO\t|-63.2\t|-2.7405416\n",
    "\n",
    "\n",
    "Reaction: FeS2 + 1.5 FeO -> FeS + 0.5 Fe2O3\n"
   ]
  },
  {
   "cell_type": "code",
   "execution_count": 22,
   "metadata": {},
   "outputs": [
    {
     "name": "stdout",
     "output_type": "stream",
     "text": [
      "0.5 FeS2 + 1.5 FeO -> FeS + 0.5 Fe2O3                        energy: -0.21      eV\n",
      "0.5 FeS2 + 2 FeO -> FeS + 0.5 Fe3O4                          energy: -0.33      eV\n",
      "FeS + Li2O -> FeO + Li2S                                     energy: -0.19      eV\n"
     ]
    }
   ],
   "source": [
    "# Old entries\n",
    "efeo = ComputedEntry(\"FeO\", -2.81837584)\n",
    "efe2o3 = ComputedEntry(\"Fe2O3\", -8.55221108)\n",
    "efes2 = ComputedEntry(\"FeS2\", -1.77719584)\n",
    "efes = ComputedEntry(\"FeS\", -1.05331156)\n",
    "efe3o4 = ComputedEntry(\"Fe3O4\", -11.61246184)\n",
    "eli2s = ComputedEntry(\"Li2S\", -4.63092)\n",
    "eli2o = ComputedEntry(\"Li2O\", -6.2028428)\n",
    "\n",
    "# Upated entries from Kubaschewski Table?\n",
    "\n",
    "\n",
    "exp_entries = []\n",
    "exp_entries.append([efeo, efe2o3, efes2, efes, efe3o4, eli2s, eli2o])\n",
    "react = ComputedReaction([efes2, efeo], [efes, efe2o3])\n",
    "print(f'{str(react):<60} energy: {react.calculated_reaction_energy:<10.2f} eV') \n",
    "\n",
    "react = ComputedReaction([efes2, efeo], [efes, efe3o4])\n",
    "print(f'{str(react):<60} energy: {react.calculated_reaction_energy:<10.2f} eV') \n",
    "\n",
    "react = ComputedReaction([efes, eli2o], [efeo, eli2s])\n",
    "print(f'{str(react):<60} energy: {react.calculated_reaction_energy:<10.2f} eV') \n"
   ]
  },
  {
   "cell_type": "raw",
   "metadata": {},
   "source": [
    "!mkdir scheme-compare"
   ]
  },
  {
   "cell_type": "raw",
   "metadata": {},
   "source": [
    "from monty.serialization import dumpfn\n",
    "dumpfn(entries_comp, 'scheme-compare/computed-this-work.json', )\n",
    "dumpfn(exp_entries, 'scheme-compare/experimental.json')"
   ]
  },
  {
   "cell_type": "markdown",
   "metadata": {},
   "source": [
    "## Proper export of the structure and data"
   ]
  },
  {
   "cell_type": "raw",
   "metadata": {},
   "source": [
    "folder = 'export_data_v3'\n",
    "!rm -r {folder}\n",
    "!mkdir {folder}\n",
    "\n",
    "from ase.build import niggli_reduce\n",
    "def save_csv(df, name):\n",
    "    df = df.rename(columns={'e_above_hull': 'Distance to Hull (eV)', 'e_above_hull_known': 'Distance to known hull (eV)', 'e_pa': 'Energy Per Atom (eV)'})\n",
    "    df[['resid', 'formula', 'Distance to Hull (eV)', 'decomp', 'Distance to known hull (eV)', 'decomp_known', 'structure_uuid', 'functional', 'Energy Per Atom (eV)']].to_csv(name)\n",
    "\n",
    "dfs = []\n",
    "for formula in to_show.formula:\n",
    "    Path(f\"{folder}/{formula}\").mkdir(exist_ok=True)\n",
    "    phases = unique[unique.formula == formula].groupby('label')['e_above_hull'].idxmin()\n",
    "    phases = unique.loc[phases.values].sort_values('e_above_hull')\n",
    "    phases['resid'] = phases['label'].apply(lambda x: x.replace('.res', '').split('-')[-1])\n",
    "    to_save = phases.reset_index().head(5)\n",
    "    for i, row in to_save.iterrows():\n",
    "        atoms = row.relax_structure.get_ase()\n",
    "        niggli_reduce(atoms)\n",
    "        atoms.write(f\"{folder}/{formula}/{i:03d}-{formula}-{row.resid}-hull-{row.e_above_hull * 1000:.0f}-meV.cif\")\n",
    "    dfs.append(to_save)\n",
    "    save_csv(to_save, f\"{folder}/{formula}/{formula}-data.csv\")\n",
    "\n",
    "save_df = pd.concat(dfs, axis=0).reset_index()\n",
    "save_csv(save_df, f\"{folder}/combined-data.csv\")"
   ]
  }
 ],
 "metadata": {
  "kernelspec": {
   "display_name": "Python 3",
   "language": "python",
   "name": "python3"
  },
  "language_info": {
   "codemirror_mode": {
    "name": "ipython",
    "version": 3
   },
   "file_extension": ".py",
   "mimetype": "text/x-python",
   "name": "python",
   "nbconvert_exporter": "python",
   "pygments_lexer": "ipython3",
   "version": "3.8.10"
  }
 },
 "nbformat": 4,
 "nbformat_minor": 4
}
