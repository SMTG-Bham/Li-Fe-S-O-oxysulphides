{
 "cells": [
  {
   "cell_type": "markdown",
   "id": "cec8b0a8-6277-4e5c-b867-f1bdeab668ed",
   "metadata": {},
   "source": [
    "## Export  all calculations and structures"
   ]
  },
  {
   "cell_type": "code",
   "execution_count": 1,
   "id": "2f1d0265-3500-48a0-b23c-e50080bb86f6",
   "metadata": {},
   "outputs": [
    {
     "data": {
      "application/json": {
       "current_state": "Loaded AiiDA DB environment - profile name: scanlon-test."
      },
      "text/html": [
       "<p>Loaded AiiDA DB environment - profile name: scanlon-test.</p>"
      ],
      "text/latex": [
       "Loaded AiiDA DB environment - profile name: scanlon-test.\n"
      ],
      "text/plain": [
       "Loaded AiiDA DB environment - profile name: scanlon-test.\n"
      ]
     },
     "execution_count": 1,
     "metadata": {},
     "output_type": "execute_result"
    }
   ],
   "source": [
    "%aiida"
   ]
  },
  {
   "cell_type": "code",
   "execution_count": 2,
   "id": "10cb9487-d74f-4a90-a44f-23b6983ba774",
   "metadata": {},
   "outputs": [],
   "source": [
    "sgroup_run2 = Group.objects.get(label='li-fe-o-s/run2-airss-refine-structures')\n",
    "sgroup_run1 = Group.objects.get(label='li-fe-o-s/run1-airss-refine-structures')\n",
    "extra_group = Group.objects.get(label='li-fe-o-s/extra-search-structures')\n",
    "kgroup = Group.objects.get(label='li-fe-o-s/mp-structures')\n",
    "gcalc = Group.objects.get_or_create(label='li-fe-o-s/pbe-fe-u4-calcs')[0]"
   ]
  },
  {
   "cell_type": "markdown",
   "id": "3bf8fee3-00e5-42de-843e-a8987c1e7748",
   "metadata": {},
   "source": [
    "Delithiation results"
   ]
  },
  {
   "cell_type": "code",
   "execution_count": 3,
   "id": "3d76d70b-0cd0-4b16-aa35-d3aee7422666",
   "metadata": {},
   "outputs": [],
   "source": [
    "deli_group = Group.objects.get(label='li-fe-o-f/delithiation-starting-relaxes')\n",
    "extras = [  # Extra starting structuer\n",
    "    'bc8867ff-c442-4b59-b264-9311d0d29156',\n",
    "    '3e0e99da-2a70-4c12-b59f-42cba5bfcba5',\n",
    "    'd270e70c-7286-4244-b9bb-7e3524526c2e',\n",
    "    'd6474c74-bb0f-4f18-bc0c-7d0287762989'\n",
    "         ]\n",
    "deli_uuids = ['6e026ea5-0687-4559-b0dc-e18c1373a67d',\n",
    " '834fe9a4-5a7b-4f0f-9ce9-82416a2f1be7',\n",
    " '952b260a-37d9-41f5-8c42-4c628682eef1',\n",
    " '1d727e34-9367-4628-b0f8-1688ff430369',\n",
    " '86b7066b-ef64-4abe-8b76-cc776506893d',\n",
    " '1faf7138-e2e9-4c41-96a4-a3d5b2436661',\n",
    " '3b8edea7-b3e4-4500-82e5-7664220a2c44',\n",
    " 'e5aa54b1-31cf-4283-985a-6e8361dfe5dd',\n",
    " 'fc3028cd-8a72-439e-9d0f-1db52df50de6',\n",
    " 'de82dcb5-6836-4942-8002-ed003f6dacba',\n",
    " 'fdb87eb0-8383-431d-902d-70e777aa01ef']"
   ]
  },
  {
   "cell_type": "raw",
   "id": "abf63cc4-2e66-4a41-b294-0aa5bb2e2c97",
   "metadata": {},
   "source": [
    "q = QueryBuilder()\n",
    "q.append(Node, filters={'uuid': {'in': extras}})\n",
    "q.append(WorkflowFactory('vaspu.delithiate'), tag='deli', project='uuid')\n",
    "q.append(Dict, project=['attributes'], edge_filters={'label': {'like': '%voltages'}})\n",
    "\n",
    "extra_deli_uuids = [x[0] for x in q.all()]"
   ]
  },
  {
   "cell_type": "code",
   "execution_count": 8,
   "id": "089994e0-0cfe-42d9-be3c-133b6184a7ae",
   "metadata": {},
   "outputs": [],
   "source": [
    "# Delithiation performed with the extra groups\n",
    "extra_deli_uuids = ['f675655b-a6b6-44e4-a0bc-0af659bd5a27',\n",
    " '17397515-739d-497b-a627-b3e67ad50947',\n",
    " '4056246d-05d8-49fb-a945-6d13ade1cf4b',\n",
    " 'df9c6044-60fa-47c6-87d9-0ef86c4cefd3',\n",
    " 'c169d6c4-1da3-469a-b2d3-5c69c02f5fd7']"
   ]
  },
  {
   "cell_type": "markdown",
   "id": "eb16e4f8-ce68-49b1-bc07-39b204d9d761",
   "metadata": {},
   "source": [
    "## Spin enumerations"
   ]
  },
  {
   "cell_type": "code",
   "execution_count": null,
   "id": "a57cd1a3-105c-4105-ae4f-65394e89261b",
   "metadata": {},
   "outputs": [],
   "source": [
    "spin_enum_uuids = ['dca5589f-747c-46de-a7f7-7277774376e2',\n",
    " 'da71f951-505c-4e8a-b8bb-dc87a8ffc38c',\n",
    " '8a568bfd-24b5-4358-9462-dfa1937bde28',\n",
    " '78d51921-7600-45b8-9199-3a4f0787a377',\n",
    " 'dc2ffce9-bffe-412b-9b31-ed925e24e1bd',\n",
    " '3f7322dd-1cfe-4db9-a433-114ea75f0872',\n",
    " 'fe8395ff-6ffa-4032-8a84-3a7942a0b5e0',\n",
    " 'ece1dea6-5048-423c-806e-5929e3668ed6',\n",
    " '0bea0c09-a893-4113-8d40-f5f948c186d0',\n",
    " '0052c0be-89e8-4454-a10c-f8ba67ef1b1c',\n",
    " 'db742439-acbd-43e6-9e63-6d62434abf58',\n",
    " '2a009e5c-d011-45d8-9b6a-f54d54021d2e',\n",
    " '2b24150c-720c-405b-ac99-f2ef51c732c8',\n",
    " '7e519d38-19a9-4727-9712-e3d18e3c3b75',\n",
    " 'c1dacdf4-e494-4275-acac-3d23996c5f38',\n",
    " '7f522cf2-21df-4892-895e-62a1f1439861',\n",
    " '825cd2f8-2799-4049-8770-6119ce97aac5',\n",
    " '66ddd681-b739-43ae-acaa-a11fe23a19ce',\n",
    " 'b845c720-0b77-4fd9-98f6-7c0df4a88f7f',\n",
    " '82dac5f9-a94c-4bda-af7b-c0ff5b2cb7f5']"
   ]
  },
  {
   "cell_type": "markdown",
   "id": "9cb01ec1-dd8b-4cee-9837-bdb5484c6fc0",
   "metadata": {},
   "source": [
    "## NEB Calculations"
   ]
  },
  {
   "cell_type": "code",
   "execution_count": 9,
   "id": "55addfd8-27a5-470d-8c1b-8a7845e39e38",
   "metadata": {},
   "outputs": [],
   "source": [
    "neb_uuids = [\n",
    "    '2e54e54d-07bf-419a-b23e-ede4a6b83fc6',\n",
    "    'bcb2bf53-5700-4c0a-9827-2d2e676c2297',\n",
    "    '1de9693e-86cf-43c0-a609-37bc6aa39d2f',\n",
    "    '79d580e9-b7c1-49d5-ada7-3291eb908397',\n",
    "    '85d0ec5d-d138-419a-9895-89bbe8a7c3ca',\n",
    "    '70b8309e-4fc9-4e0c-a995-7353ac8d87e0',\n",
    "]"
   ]
  },
  {
   "cell_type": "markdown",
   "id": "0a5ede2f-8d6d-48ea-bffb-d7646be241cb",
   "metadata": {},
   "source": [
    "## Phonon calculationss"
   ]
  },
  {
   "cell_type": "code",
   "execution_count": 11,
   "id": "f35c11be-30fe-4bfa-8d44-17c62fbf4b5e",
   "metadata": {},
   "outputs": [
    {
     "name": "stdout",
     "output_type": "stream",
     "text": [
      "dad71ad6-0dd8-45fb-99b6-3f39c3d69faa\n"
     ]
    }
   ],
   "source": [
    "print(load_node(564787).uuid)"
   ]
  },
  {
   "cell_type": "code",
   "execution_count": 27,
   "id": "e0b8c405-020c-487e-ad38-3c6feaa4bf7e",
   "metadata": {},
   "outputs": [],
   "source": [
    "phonon_uuids = {\n",
    "    'li4fe3s3o2_enum': '9db2ed24-4a97-4a23-af71-b651a54e2699',\n",
    "    'li2fe2s2o': '523efb1e-1cd0-45d2-ae41-0151102d2959',\n",
    "    'li2fe2s2o_imag': 'a4d226e0-158c-4913-91c8-ed22f0759a18',\n",
    "    'li2fe3s3o2': 'dad71ad6-0dd8-45fb-99b6-3f39c3d69faa',\n",
    "    'li2fe3s3o2_imag': '20b83066-0485-4fa0-849c-8d20817f7aca',\n",
    "    'li2fe3s3o2_orig': '08c36372-91bc-4175-814b-20e950447f01',\n",
    "    'li2feso': '1b3c0ad2-d25c-4632-bdd5-0803beb295c1',\n",
    "    'li2fe3s3o2': 'f4f2e389-1896-43d2-9721-4a029e123ba0',\n",
    "    'li2fe3s3o2_imag': '82a864b7-a300-4192-9177-46aeeebd139a',\n",
    "    'li2feso_lu': 'e3aed4e2-977e-4bc8-885d-770449cd17eb',\n",
    "}"
   ]
  },
  {
   "cell_type": "markdown",
   "id": "fdfee626-b728-4626-a73f-25d8f4dc41d3",
   "metadata": {},
   "source": [
    "## Phonon mode mapping groups"
   ]
  },
  {
   "cell_type": "code",
   "execution_count": 26,
   "id": "24de22ef-eb67-4837-85b4-2c311b22163a",
   "metadata": {},
   "outputs": [],
   "source": [
    "mode_mapping_groups = Group.objects.find(filters={'label': {'like': 'li-fe-s-o/%mode-mapping%'}})"
   ]
  },
  {
   "cell_type": "markdown",
   "id": "79937515-b28f-4538-a3ad-59e2ce858aa4",
   "metadata": {},
   "source": [
    "## Hybrid PDOS calculations"
   ]
  },
  {
   "cell_type": "code",
   "execution_count": 6,
   "id": "1a711cf5-0d39-4424-aed1-31b6f1c4caf9",
   "metadata": {},
   "outputs": [
    {
     "data": {
      "application/json": {
       "current_state": "Loaded AiiDA DB environment - profile name: scanlon-test."
      },
      "text/html": [
       "<p>Loaded AiiDA DB environment - profile name: scanlon-test.</p>"
      ],
      "text/latex": [
       "Loaded AiiDA DB environment - profile name: scanlon-test.\n"
      ],
      "text/plain": [
       "Loaded AiiDA DB environment - profile name: scanlon-test.\n"
      ]
     },
     "execution_count": 6,
     "metadata": {},
     "output_type": "execute_result"
    }
   ],
   "source": [
    "%aiida"
   ]
  },
  {
   "cell_type": "code",
   "execution_count": 21,
   "id": "a864ba03-35fd-43f0-910c-5f94288688d7",
   "metadata": {},
   "outputs": [],
   "source": [
    "from pathlib import Path\n",
    "from aiida.common.links import LinkType"
   ]
  },
  {
   "cell_type": "markdown",
   "id": "891d08e7-28a6-406c-8b82-e9100343b3b3",
   "metadata": {},
   "source": [
    "Find the relaxation workchain that was exported"
   ]
  },
  {
   "cell_type": "raw",
   "id": "3473fd0a-b455-42a7-bd7e-72f5e0b1ee90",
   "metadata": {},
   "source": [
    "info = Path().glob('../Li-Fe-O-S/hybrid-pdos/*/relax_calc_000/aiida_info')\n",
    "uuids = []\n",
    "for file in info:\n",
    "    uuid = Path(file).read_text().split('\\n')[2].split(':')[1].strip()\n",
    "    work_node = load_node(uuid).get_incoming(link_type=LinkType.CALL_CALC).one().node\n",
    "    relax_node = work_node.get_incoming(link_type=LinkType.CALL_WORK).one().node\n",
    "    uuids.append(relax_node.uuid)"
   ]
  },
  {
   "cell_type": "code",
   "execution_count": 22,
   "id": "ec6ed11b-424f-4c2a-bae8-c5b7c8b25d9d",
   "metadata": {},
   "outputs": [],
   "source": [
    "hyrid_pdos_uuids = ['5d83cc8d-4220-4df6-931e-a8b94df5648e',\n",
    " '4afe25ed-0216-43ab-859c-edefc2f2e7a4',\n",
    " 'f9e91a26-26be-4df9-bb3d-17c8aa0e93f7',\n",
    " 'bae2b599-babd-4de7-a99c-42d7c8a8551d',\n",
    " '01152ffb-8839-4d70-a252-1f72c04ac041',\n",
    " '2df38b66-6b37-41fc-9146-b73bfbdae3be',\n",
    " 'ad1eade3-c180-46a0-9dc0-9badad51dc99',\n",
    " '610992eb-8546-4a9b-ae37-1d173e8ad546',\n",
    " 'db572fe9-87a4-4298-af0b-0855a9480955']"
   ]
  }
 ],
 "metadata": {
  "kernelspec": {
   "display_name": "Python [conda env:aiida-1.0-py3]",
   "language": "python",
   "name": "conda-env-aiida-1.0-py3-py"
  },
  "language_info": {
   "codemirror_mode": {
    "name": "ipython",
    "version": 3
   },
   "file_extension": ".py",
   "mimetype": "text/x-python",
   "name": "python",
   "nbconvert_exporter": "python",
   "pygments_lexer": "ipython3",
   "version": "3.8.10"
  }
 },
 "nbformat": 4,
 "nbformat_minor": 5
}
